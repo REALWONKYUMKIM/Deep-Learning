{
 "cells": [
  {
   "cell_type": "code",
   "execution_count": null,
   "id": "ca9e9af3-d8ca-4309-ad76-3533faad832e",
   "metadata": {},
   "outputs": [],
   "source": [
    "import numpy as np\n",
    "import pandas as pd\n",
    "\n",
    "import matplotlib.pyplot as plt\n",
    "import seaborn as sns\n",
    "\n",
    "\n",
    "sns.set()\n",
    "\n",
    "#-------------------- 차트 관련 속성 (한글처리, 그리드) -----------\n",
    "plt.rcParams['font.family']= 'Malgun Gothic'\n",
    "plt.rcParams['axes.unicode_minus'] = False\n",
    "\n",
    "#-------------------- 주피터 , 출력결과 넓이 늘리기 ---------------\n",
    "# from IPython.core.display import display, HTML\n",
    "from IPython.display import display, HTML\n",
    "\n",
    "display(HTML(\"<style>.container{width:100% !important;}</style>\"))\n",
    "pd.set_option('display.max_rows', 100)\n",
    "pd.set_option('display.max_columns', 100)\n",
    "pd.set_option('max_colwidth', None)\n",
    "\n",
    "import warnings\n",
    "warnings.filterwarnings(action='ignore')"
   ]
  },
  {
   "cell_type": "code",
   "execution_count": null,
   "id": "f5f36f64-6376-4949-a678-5844d44051fb",
   "metadata": {},
   "outputs": [],
   "source": [
    "import tensorflow as tf\n",
    "tf.random.set_seed(1234)\n",
    "np.random.seed(1234)"
   ]
  },
  {
   "cell_type": "code",
   "execution_count": null,
   "id": "8dfa4f81-3900-44d6-b443-92fa14be2075",
   "metadata": {},
   "outputs": [],
   "source": [
    "from keras.datasets import mnist"
   ]
  },
  {
   "cell_type": "code",
   "execution_count": null,
   "id": "ad8e5c6c-805d-4b57-88d6-963e953461f1",
   "metadata": {},
   "outputs": [],
   "source": [
    "(X_train,y_train), (X_test,y_test) = mnist.load_data()\n",
    "X_train.shape, y_train.shape, X_test.shape, y_test.shape"
   ]
  },
  {
   "cell_type": "code",
   "execution_count": null,
   "id": "d832aebe-c706-4209-8c03-b798d3d4760e",
   "metadata": {},
   "outputs": [],
   "source": [
    "X_train.reshape(60000, -1).shape"
   ]
  },
  {
   "cell_type": "code",
   "execution_count": null,
   "id": "4cb0f360-e520-4380-814c-c047a940128f",
   "metadata": {},
   "outputs": [],
   "source": [
    "X_train = X_train.reshape(60000, -1)\n",
    "X_test  = X_test.reshape(10000, -1)\n"
   ]
  },
  {
   "cell_type": "code",
   "execution_count": null,
   "id": "22c9e7c0-5aa9-46c6-90b5-06563d6b91a8",
   "metadata": {},
   "outputs": [],
   "source": [
    "X_train_scaler = X_train / 255.0\n",
    "X_test_scaler  = X_test / 255.0"
   ]
  },
  {
   "cell_type": "code",
   "execution_count": null,
   "id": "7522f0df-9c03-4e9a-a312-dee53868c399",
   "metadata": {},
   "outputs": [],
   "source": [
    "X_train_scaler.shape, y_train.shape"
   ]
  },
  {
   "cell_type": "code",
   "execution_count": null,
   "id": "7344df6f-6101-411f-a100-545a5402079d",
   "metadata": {},
   "outputs": [],
   "source": [
    "from keras.layers import Dense\n",
    "from keras import Sequential\n",
    "from keras.initializers import GlorotNormal  #Xavier"
   ]
  },
  {
   "cell_type": "code",
   "execution_count": null,
   "id": "adc2d4d4-0145-47a7-9acf-bdf8c299b791",
   "metadata": {},
   "outputs": [],
   "source": [
    "model = Sequential()\n",
    "model.add(Dense(units=300, input_dim=784, activation='relu', kernel_initializer='glorot_normal')) #입력층\n",
    "model.add(Dense(units=100,  activation='relu'))              #히든레이어\n",
    "model.add(Dense(units=60,  activation='relu'))              #히든레이어\n",
    "model.add(Dense(units=10,  activation='softmax'))           #3종 출력층\n",
    "model.compile(loss='sparse_categorical_crossentropy', optimizer='Adam', metrics=['accuracy'])"
   ]
  },
  {
   "cell_type": "code",
   "execution_count": null,
   "id": "c58dce16-d665-4128-bc9b-7354335db786",
   "metadata": {},
   "outputs": [],
   "source": [
    "model.summary()"
   ]
  },
  {
   "cell_type": "code",
   "execution_count": null,
   "id": "b6a23c2c-9a13-4ae6-8b9c-e6ce16f99014",
   "metadata": {},
   "outputs": [],
   "source": [
    "fit_hisroty = model.fit(X_train_scaler, y_train\n",
    "                        , batch_size = 128\n",
    "                        , validation_split=0.2, epochs=10)\n",
    "print(fit_hisroty)\n",
    "print ( model.evaluate(X_test_scaler, y_test)  )"
   ]
  },
  {
   "cell_type": "code",
   "execution_count": null,
   "id": "f80864e4-59d9-435d-a3ea-d8bb42d28c13",
   "metadata": {},
   "outputs": [],
   "source": []
  },
  {
   "cell_type": "code",
   "execution_count": null,
   "id": "70ba750e-ff18-45ea-9418-419054cda34e",
   "metadata": {},
   "outputs": [],
   "source": []
  },
  {
   "cell_type": "code",
   "execution_count": null,
   "id": "d28c0a02-3cec-41b4-8233-d8493d9be281",
   "metadata": {},
   "outputs": [],
   "source": []
  }
 ],
 "metadata": {
  "kernelspec": {
   "display_name": "Python 3 (ipykernel)",
   "language": "python",
   "name": "python3"
  },
  "language_info": {
   "codemirror_mode": {
    "name": "ipython",
    "version": 3
   },
   "file_extension": ".py",
   "mimetype": "text/x-python",
   "name": "python",
   "nbconvert_exporter": "python",
   "pygments_lexer": "ipython3",
   "version": "3.8.8"
  }
 },
 "nbformat": 4,
 "nbformat_minor": 5
}
