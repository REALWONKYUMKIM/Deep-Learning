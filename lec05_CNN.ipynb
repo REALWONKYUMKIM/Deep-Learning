{
 "cells": [
  {
   "cell_type": "code",
   "execution_count": 41,
   "id": "1bbf67c1-db0a-4274-90b9-dc1a701060c4",
   "metadata": {},
   "outputs": [
    {
     "data": {
      "text/html": [
       "<style>.container{width:100% !important;}</style>"
      ],
      "text/plain": [
       "<IPython.core.display.HTML object>"
      ]
     },
     "metadata": {},
     "output_type": "display_data"
    }
   ],
   "source": [
    "import numpy as np\n",
    "import pandas as pd\n",
    "\n",
    "import matplotlib.pyplot as plt\n",
    "import seaborn as sns\n",
    "\n",
    "\n",
    "sns.set()\n",
    "\n",
    "#-------------------- 차트 관련 속성 (한글처리, 그리드) -----------\n",
    "plt.rcParams['font.family']= 'Malgun Gothic'\n",
    "plt.rcParams['axes.unicode_minus'] = False\n",
    "\n",
    "#-------------------- 주피터 , 출력결과 넓이 늘리기 ---------------\n",
    "# from IPython.core.display import display, HTML\n",
    "from IPython.display import display, HTML\n",
    "\n",
    "display(HTML(\"<style>.container{width:100% !important;}</style>\"))\n",
    "pd.set_option('display.max_rows', 100)\n",
    "pd.set_option('display.max_columns', 100)\n",
    "pd.set_option('max_colwidth', None)\n",
    "\n",
    "import warnings\n",
    "warnings.filterwarnings(action='ignore')"
   ]
  },
  {
   "cell_type": "code",
   "execution_count": 42,
   "id": "714cb701-f699-4b56-8326-0d34dffcd765",
   "metadata": {},
   "outputs": [],
   "source": [
    "import tensorflow as tf\n",
    "tf.random.set_seed(1234)\n",
    "np.random.seed(1234)"
   ]
  },
  {
   "cell_type": "code",
   "execution_count": 43,
   "id": "d720320e-9a0a-4707-9464-62d822cb6695",
   "metadata": {},
   "outputs": [],
   "source": [
    "from keras.datasets import fashion_mnist"
   ]
  },
  {
   "cell_type": "code",
   "execution_count": 44,
   "id": "f254673a-d55b-4987-917e-676ab0ed2ab2",
   "metadata": {},
   "outputs": [
    {
     "data": {
      "text/plain": [
       "((60000, 28, 28), (60000,), (10000, 28, 28), (10000,))"
      ]
     },
     "execution_count": 44,
     "metadata": {},
     "output_type": "execute_result"
    }
   ],
   "source": [
    "(X_train,y_train), (X_test,y_test) = fashion_mnist.load_data()\n",
    "X_train.shape, y_train.shape, X_test.shape, y_test.shape"
   ]
  },
  {
   "cell_type": "code",
   "execution_count": 45,
   "id": "d9738d3c-10b4-4900-a97b-f77da1ba92a8",
   "metadata": {},
   "outputs": [
    {
     "data": {
      "text/plain": [
       "(60000, 28, 28)"
      ]
     },
     "execution_count": 45,
     "metadata": {},
     "output_type": "execute_result"
    }
   ],
   "source": [
    "X_train.shape "
   ]
  },
  {
   "cell_type": "code",
   "execution_count": 46,
   "id": "fea30843-e542-44c5-be7f-15a6d6dbc204",
   "metadata": {},
   "outputs": [
    {
     "data": {
      "text/plain": [
       "(60000, 784)"
      ]
     },
     "execution_count": 46,
     "metadata": {},
     "output_type": "execute_result"
    }
   ],
   "source": [
    "X_train.reshape(60000, -1).shape"
   ]
  },
  {
   "cell_type": "code",
   "execution_count": 47,
   "id": "5e32667d-2ae4-4ee3-b919-7472bdd7a824",
   "metadata": {},
   "outputs": [],
   "source": [
    "X_train = X_train.reshape(60000, -1)\n",
    "X_test  = X_test.reshape(10000, -1)\n"
   ]
  },
  {
   "cell_type": "code",
   "execution_count": 48,
   "id": "0450758a-1e12-4e4a-9b4a-83b8ac1f5383",
   "metadata": {},
   "outputs": [],
   "source": [
    "X_train_scaler = X_train / 255.0\n",
    "X_test_scaler  = X_test / 255.0"
   ]
  },
  {
   "cell_type": "code",
   "execution_count": 49,
   "id": "d2595fcf-fb50-47bd-81cf-776cd161850b",
   "metadata": {},
   "outputs": [],
   "source": [
    "from keras.layers import Dense\n",
    "from keras import Sequential\n",
    "from keras.initializers import GlorotNormal  #Xavier"
   ]
  },
  {
   "cell_type": "code",
   "execution_count": 50,
   "id": "e701c328-3f0b-4e29-831f-67e904d1b36f",
   "metadata": {},
   "outputs": [],
   "source": [
    "model = Sequential()\n",
    "model.add(Dense(units=300, input_dim=28*28, activation='relu', kernel_initializer='glorot_normal')) #입력층\n",
    "model.add(Dense(units=100,  activation='relu'))              #히든레이어\n",
    "model.add(Dense(units=60,  activation='relu'))              #히든레이어\n",
    "model.add(Dense(units=10,  activation='softmax'))           #3종 출력층\n",
    "model.compile(loss='sparse_categorical_crossentropy', optimizer='Adam', metrics=['accuracy'])"
   ]
  },
  {
   "cell_type": "code",
   "execution_count": 51,
   "id": "0d365368-0159-4e91-b969-d7366472b72e",
   "metadata": {},
   "outputs": [
    {
     "name": "stdout",
     "output_type": "stream",
     "text": [
      "Epoch 1/10\n",
      "375/375 [==============================] - 2s 3ms/step - loss: 0.5575 - accuracy: 0.8009 - val_loss: 0.4187 - val_accuracy: 0.8493\n",
      "Epoch 2/10\n",
      "375/375 [==============================] - 1s 3ms/step - loss: 0.3796 - accuracy: 0.8624 - val_loss: 0.3911 - val_accuracy: 0.8559\n",
      "Epoch 3/10\n",
      "375/375 [==============================] - 1s 3ms/step - loss: 0.3404 - accuracy: 0.8756 - val_loss: 0.3766 - val_accuracy: 0.8583\n",
      "Epoch 4/10\n",
      "375/375 [==============================] - 1s 3ms/step - loss: 0.3149 - accuracy: 0.8839 - val_loss: 0.3693 - val_accuracy: 0.8645\n",
      "Epoch 5/10\n",
      "375/375 [==============================] - 1s 3ms/step - loss: 0.2947 - accuracy: 0.8903 - val_loss: 0.3213 - val_accuracy: 0.8814\n",
      "Epoch 6/10\n",
      "375/375 [==============================] - 1s 3ms/step - loss: 0.2793 - accuracy: 0.8964 - val_loss: 0.3396 - val_accuracy: 0.8789\n",
      "Epoch 7/10\n",
      "375/375 [==============================] - 1s 3ms/step - loss: 0.2667 - accuracy: 0.9001 - val_loss: 0.3301 - val_accuracy: 0.8812\n",
      "Epoch 8/10\n",
      "375/375 [==============================] - 1s 3ms/step - loss: 0.2531 - accuracy: 0.9037 - val_loss: 0.3168 - val_accuracy: 0.8873\n",
      "Epoch 9/10\n",
      "375/375 [==============================] - 1s 3ms/step - loss: 0.2416 - accuracy: 0.9090 - val_loss: 0.3234 - val_accuracy: 0.8835\n",
      "Epoch 10/10\n",
      "375/375 [==============================] - 1s 3ms/step - loss: 0.2343 - accuracy: 0.9110 - val_loss: 0.3052 - val_accuracy: 0.8935\n",
      "<keras.callbacks.History object at 0x000001832D434BB0>\n",
      "313/313 [==============================] - 0s 1ms/step - loss: 0.3396 - accuracy: 0.8833\n",
      "[0.3396463692188263, 0.8833000063896179]\n"
     ]
    }
   ],
   "source": [
    "fit_history = model.fit(X_train_scaler, y_train\n",
    "                        , batch_size = 128\n",
    "                        , validation_split=0.2, epochs=10)\n",
    "print(fit_history)\n",
    "print ( model.evaluate(X_test_scaler, y_test)  )"
   ]
  },
  {
   "cell_type": "code",
   "execution_count": 52,
   "id": "6a1963c3-e759-4210-99cf-bfe4999b260b",
   "metadata": {},
   "outputs": [
    {
     "data": {
      "image/png": "[encoded data removed]",
      "text/plain": [
       "<Figure size 600x300 with 2 Axes>"
      ]
     },
     "metadata": {},
     "output_type": "display_data"
    }
   ],
   "source": [
    "plt.figure(figsize=(6,3))\n",
    "ax1 = plt.subplot(1,2,1)\n",
    "ax1.plot(fit_history.history['loss']    , label='loss')\n",
    "ax1.plot(fit_history.history['val_loss'], label='val_loss')\n",
    "ax1.legend()\n",
    "ax1.set_title(\"loss\")\n",
    "\n",
    "ax2 = plt.subplot(1,2,2)\n",
    "ax2.plot(fit_history.history['accuracy']    , label='accuracy')\n",
    "ax2.plot(fit_history.history['val_accuracy'], label='val_accuracy')\n",
    "ax2.legend()\n",
    "ax2.set_title(\"accuracy\")\n",
    "\n",
    "plt.show()"
   ]
  },
  {
   "cell_type": "markdown",
   "id": "29af6a9f-bf0f-4245-8a00-278bfce55557",
   "metadata": {},
   "source": [
    "# CNN"
   ]
  },
  {
   "cell_type": "code",
   "execution_count": 56,
   "id": "670310c9-7ee5-4462-9e8d-34ac96b980f4",
   "metadata": {},
   "outputs": [],
   "source": [
    "from keras.models import Sequential\n",
    "from keras.layers import Dropout, Conv2D, MaxPool2D, Flatten, Dense\n",
    "from keras.initializers import GlorotNormal  #Xavier"
   ]
  },
  {
   "cell_type": "code",
   "execution_count": 60,
   "id": "f71b756c-b4e7-4698-b871-cc1e890b4f4d",
   "metadata": {},
   "outputs": [
    {
     "ename": "SyntaxError",
     "evalue": "invalid syntax (1593411165.py, line 4)",
     "output_type": "error",
     "traceback": [
      "\u001b[1;36m  Cell \u001b[1;32mIn[60], line 4\u001b[1;36m\u001b[0m\n\u001b[1;33m    model.add(Conv2D(filters=24, kernel_size = (5,5) , activation = 'relu'))\u001b[0m\n\u001b[1;37m    ^\u001b[0m\n\u001b[1;31mSyntaxError\u001b[0m\u001b[1;31m:\u001b[0m invalid syntax\n"
     ]
    }
   ],
   "source": [
    "model = Sequential()\n",
    "model.add(Conv2D(filters=16, input_shape = (28,28,1), kernel_size = (5,5) , activation = 'relu', kernel_initializer= \"glorot_uniform\"))\n",
    "model.add(MaxPool2D(pool_size=(2, 2), strides=None, padding=\"valid\")\n",
    "model.add(Conv2D(filters=24, kernel_size = (5,5) , activation = 'relu'))\n",
    "model.add(MaxPool2D(pool_size=(2, 2), strides=None, padding=\"valid\")\n",
    "\n",
    "\n",
    "model.add(Flatten())\n",
    "model.add(Dense(units=60, activiation='relu'))\n",
    "model.add(Dense(units=60, activiation='softmax'))\n",
    "model.compile(loss='sparse_catergorical_crossentropy', optimizer='Adam', metrics=['accuracy'])"
   ]
  },
  {
   "cell_type": "code",
   "execution_count": 75,
   "id": "3c8b5f49-403b-48f0-920a-493a0e66cfbd",
   "metadata": {},
   "outputs": [
    {
     "data": {
      "text/plain": [
       "((60000, 28, 28), (60000,), (10000, 28, 28), (10000,))"
      ]
     },
     "execution_count": 75,
     "metadata": {},
     "output_type": "execute_result"
    }
   ],
   "source": [
    "(X_train,y_train), (X_test,y_test) = fashion_mnist.load_data()\n",
    "X_train.shape, y_train.shape, X_test.shape, y_test.shape"
   ]
  },
  {
   "cell_type": "code",
   "execution_count": 80,
   "id": "9c57bc22-337a-401f-b003-39c8ed3a2dfd",
   "metadata": {},
   "outputs": [
    {
     "data": {
      "text/plain": [
       "(60000, 784)"
      ]
     },
     "execution_count": 80,
     "metadata": {},
     "output_type": "execute_result"
    }
   ],
   "source": [
    "X_train.reshape(60000, -1).shape"
   ]
  },
  {
   "cell_type": "code",
   "execution_count": 79,
   "id": "9a65250d-85ef-4a22-bac0-a152afa67d1c",
   "metadata": {},
   "outputs": [
    {
     "name": "stdout",
     "output_type": "stream",
     "text": [
      "4 (60000, 28, 28, 1)\n"
     ]
    }
   ],
   "source": [
    "res = np.expand_dims(X_train, axis=(3))\n",
    "print(res.ndim, res.shape)  # 세로줄 []"
   ]
  },
  {
   "cell_type": "code",
   "execution_count": null,
   "id": "6a89a469-58a5-43ca-a439-ca935da03c7d",
   "metadata": {},
   "outputs": [],
   "source": []
  }
 ],
 "metadata": {
  "kernelspec": {
   "display_name": "Python 3 (ipykernel)",
   "language": "python",
   "name": "python3"
  },
  "language_info": {
   "codemirror_mode": {
    "name": "ipython",
    "version": 3
   },
   "file_extension": ".py",
   "mimetype": "text/x-python",
   "name": "python",
   "nbconvert_exporter": "python",
   "pygments_lexer": "ipython3",
   "version": "3.8.8"
  }
 },
 "nbformat": 4,
 "nbformat_minor": 5
}
