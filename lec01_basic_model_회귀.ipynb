{
 "cells": [
  {
   "cell_type": "markdown",
   "id": "5ac9c037-e7cf-462f-a1a0-b6e95a84f303",
   "metadata": {},
   "source": [
    "<font size=6><b> Lec01. 딥러닝 기초"
   ]
  },
  {
   "cell_type": "markdown",
   "id": "1097856f-4dbc-4b41-b000-05d65296c3b4",
   "metadata": {},
   "source": [
    "* ref : https://www.tensorflow.org/?hl=ko\n",
    "* ref : https://keras.io/ko/\n",
    "* ref : https://keras.io/api/layers/core_layers/dense/"
   ]
  },
  {
   "cell_type": "code",
   "execution_count": 1,
   "id": "f7d79890-c577-4bcc-8d35-a0d39c8ae470",
   "metadata": {},
   "outputs": [
    {
     "data": {
      "text/html": [
       "<style>.container{width:100% !important;}</style>"
      ],
      "text/plain": [
       "<IPython.core.display.HTML object>"
      ]
     },
     "metadata": {},
     "output_type": "display_data"
    }
   ],
   "source": [
    "import numpy as np\n",
    "import pandas as pd\n",
    "\n",
    "import matplotlib.pyplot as plt\n",
    "import seaborn as sns\n",
    "\n",
    "\n",
    "sns.set()\n",
    "\n",
    "#-------------------- 차트 관련 속성 (한글처리, 그리드) -----------\n",
    "plt.rcParams['font.family']= 'Malgun Gothic'\n",
    "plt.rcParams['axes.unicode_minus'] = False\n",
    "\n",
    "#-------------------- 주피터 , 출력결과 넓이 늘리기 ---------------\n",
    "# from IPython.core.display import display, HTML\n",
    "from IPython.display import display, HTML\n",
    "\n",
    "display(HTML(\"<style>.container{width:100% !important;}</style>\"))\n",
    "pd.set_option('display.max_rows', 100)\n",
    "pd.set_option('display.max_columns', 100)\n",
    "pd.set_option('max_colwidth', None)\n",
    "\n",
    "import warnings\n",
    "warnings.filterwarnings(action='ignore')"
   ]
  },
  {
   "cell_type": "code",
   "execution_count": 2,
   "id": "7c812599-61d1-496b-b16a-5c3ad006c8be",
   "metadata": {
    "tags": []
   },
   "outputs": [],
   "source": [
    "column_names = ['CRIM', 'ZN', 'INDUS', 'CHAS', 'NOX', 'RM', 'AGE', 'DIS', 'RAD', 'TAX', 'PTRATIO', 'B', 'LSTAT', 'MEDV']"
   ]
  },
  {
   "cell_type": "code",
   "execution_count": 3,
   "id": "3c97e0d3-a667-43b7-9bdc-c633a50767f1",
   "metadata": {},
   "outputs": [],
   "source": [
    "housing = pd.read_csv('../ML/datasets/housing.csv', header=None, delimiter=r\"\\s+\", names=column_names)"
   ]
  },
  {
   "cell_type": "code",
   "execution_count": 4,
   "id": "c41f0d85-93d6-49dd-b621-a2c654094f89",
   "metadata": {},
   "outputs": [
    {
     "name": "stdout",
     "output_type": "stream",
     "text": [
      "<class 'pandas.core.frame.DataFrame'>\n",
      "RangeIndex: 506 entries, 0 to 505\n",
      "Data columns (total 14 columns):\n",
      " #   Column   Non-Null Count  Dtype  \n",
      "---  ------   --------------  -----  \n",
      " 0   CRIM     506 non-null    float64\n",
      " 1   ZN       506 non-null    float64\n",
      " 2   INDUS    506 non-null    float64\n",
      " 3   CHAS     506 non-null    int64  \n",
      " 4   NOX      506 non-null    float64\n",
      " 5   RM       506 non-null    float64\n",
      " 6   AGE      506 non-null    float64\n",
      " 7   DIS      506 non-null    float64\n",
      " 8   RAD      506 non-null    int64  \n",
      " 9   TAX      506 non-null    float64\n",
      " 10  PTRATIO  506 non-null    float64\n",
      " 11  B        506 non-null    float64\n",
      " 12  LSTAT    506 non-null    float64\n",
      " 13  MEDV     506 non-null    float64\n",
      "dtypes: float64(12), int64(2)\n",
      "memory usage: 55.5 KB\n"
     ]
    }
   ],
   "source": [
    "housing.info()"
   ]
  },
  {
   "cell_type": "code",
   "execution_count": 9,
   "id": "d025617b-e8fb-4f0a-a09b-364b28f2d662",
   "metadata": {
    "tags": []
   },
   "outputs": [],
   "source": [
    "from sklearn.model_selection import train_test_split\n",
    "from sklearn.linear_model import Ridge\n",
    "from sklearn.metrics import mean_squared_error"
   ]
  },
  {
   "cell_type": "code",
   "execution_count": 10,
   "id": "91d537d9-7c9b-476e-9607-7cb8204ef647",
   "metadata": {
    "tags": []
   },
   "outputs": [
    {
     "name": "stdout",
     "output_type": "stream",
     "text": [
      "RMSE score: 4.419692840947495\n",
      "[-9.34159414e-02  5.32085304e-02 -7.76655646e-03  2.19672077e+00\n",
      " -1.07692768e+01  3.80302484e+00  8.45441192e-03 -1.35313600e+00\n",
      "  3.17168987e-01 -1.35866901e-02 -8.49788671e-01  1.15206762e-02\n",
      " -5.82788712e-01]\n"
     ]
    }
   ],
   "source": [
    "X = housing.drop(['MEDV'],axis=1)\n",
    "y = housing['MEDV']\n",
    "\n",
    "X_train, X_test, y_train, y_test = train_test_split(X, y, test_size=0.1, random_state=11)\n",
    "model = Ridge(alpha=1.0, random_state=11)\n",
    "model.fit(X_train, y_train)\n",
    "pred = model.predict(X_test)\n",
    "rmse = np.sqrt(mean_squared_error(y_test, pred))\n",
    "print('RMSE score:', rmse)\n",
    "print(model.coef_)"
   ]
  },
  {
   "cell_type": "markdown",
   "id": "5ae05281-6bba-4e32-8eee-7a335bcc289b",
   "metadata": {},
   "source": [
    "## sparse_categorical_crossentropy\n",
    "* target값이 int인 경우 : sparse_categorical_crossentropy"
   ]
  },
  {
   "cell_type": "markdown",
   "id": "d9d3d259-f181-4c62-abc4-db4dcf2f70c7",
   "metadata": {
    "tags": []
   },
   "source": [
    "## categorical_crossentropy\n",
    "* target값이 categorical(one-hot)인 경우 : categorical_crossentropy"
   ]
  },
  {
   "cell_type": "code",
   "execution_count": null,
   "id": "76fb338f-97c6-49c3-a4d4-fe192d10cf68",
   "metadata": {},
   "outputs": [],
   "source": [
    "from keras.layers import Dense\n",
    "from keras import Sequential\n",
    "from keras.initializers import GlorotNormal  #Xavier"
   ]
  },
  {
   "cell_type": "code",
   "execution_count": null,
   "id": "985ffd23-94c9-47b1-985f-377c23b67da1",
   "metadata": {},
   "outputs": [],
   "source": [
    "model = Sequential()\n",
    "model.add(Dense(units=10, input_dim=(X_train.columns), activation='relu', kernel_initializer='glorot_normal')) #입력층\n",
    "model.add(Dense(units=6,  activation='relu'))              #히든레이어\n",
    "model.add(Dense(units=6,  activation='relu'))              #히든레이어\n",
    "model.add(Dense(units=1))           #3종 출력층\n",
    "model.compile(loss='categorical_crossentropy', optimizer='Adam', metrics=['accuracy'])"
   ]
  },
  {
   "cell_type": "code",
   "execution_count": null,
   "id": "fc6388a9-3077-49d2-8061-3ae0d0c2d84d",
   "metadata": {
    "tags": []
   },
   "outputs": [],
   "source": [
    "yc = pd.get_dummies(y)\n",
    "print(yc[:5])\n",
    "\n",
    "from keras.utils import to_categorical\n",
    "yc2 = to_categorical(y, num_classes=3, dtype='int')\n",
    "print(yc2[:5])"
   ]
  },
  {
   "cell_type": "code",
   "execution_count": null,
   "id": "3d354a40-0a69-4d27-8d36-4aa668868b95",
   "metadata": {
    "tags": []
   },
   "outputs": [],
   "source": [
    "X_train.head()"
   ]
  },
  {
   "cell_type": "code",
   "execution_count": null,
   "id": "901b455f-4c7a-4583-b3c5-bfe0852a3418",
   "metadata": {
    "tags": []
   },
   "outputs": [],
   "source": [
    "y_train.head()"
   ]
  },
  {
   "cell_type": "markdown",
   "id": "40a51ce4-251c-49ee-a15a-bd59392ade86",
   "metadata": {
    "tags": []
   },
   "source": [
    "* kernel_initializer\n",
    "    * https://www.kaggle.com/code/sauravjoshi23/weight-initialization-methods-keras"
   ]
  },
  {
   "cell_type": "code",
   "execution_count": null,
   "id": "22692baa-5a4a-486d-905f-5871c57a6878",
   "metadata": {},
   "outputs": [],
   "source": [
    "model.summary()"
   ]
  },
  {
   "cell_type": "code",
   "execution_count": null,
   "id": "f499701a-23aa-49b4-bdc1-1fec506283e1",
   "metadata": {
    "tags": []
   },
   "outputs": [],
   "source": [
    "fit_hisroty = model.fit(X_train, y_train, validation_data=(X_test, y_test), epochs=100)\n",
    "print(fit_hisroty)\n",
    "# pred = model.predict(X_test)\n"
   ]
  },
  {
   "cell_type": "code",
   "execution_count": null,
   "id": "266245c8-ea10-472f-851a-c4126ef97985",
   "metadata": {
    "tags": []
   },
   "outputs": [],
   "source": [
    "plt.figure(figsize=(6,3))\n",
    "ax1 = plt.subplot(1,2,1)\n",
    "ax1.plot(fit_hisroty.history['loss']    , label='loss')\n",
    "ax1.plot(fit_hisroty.history['val_loss'], label='val_loss')\n",
    "ax1.legend()\n",
    "ax1.set_title(\"loss\")\n",
    "\n",
    "ax2 = plt.subplot(1,2,2)\n",
    "ax2.plot(fit_hisroty.history['accuracy']    , label='accuracy')\n",
    "ax2.plot(fit_hisroty.history['val_accuracy'], label='val_accuracy')\n",
    "ax2.legend()\n",
    "ax2.set_title(\"accuracy\")\n",
    "\n",
    "plt.show()"
   ]
  },
  {
   "cell_type": "code",
   "execution_count": null,
   "id": "981d7e75-f810-41ca-a984-23458c7e1edc",
   "metadata": {
    "tags": []
   },
   "outputs": [],
   "source": [
    "model.evaluate(X_test, y_test)"
   ]
  },
  {
   "cell_type": "code",
   "execution_count": null,
   "id": "9ba5f24d-4f7d-4b54-ad91-413cc2e39fc6",
   "metadata": {
    "tags": []
   },
   "outputs": [],
   "source": [
    "proba = model.predict(X_test)\n",
    "print(f\"proba : {proba[:5]}\")\n",
    "\n",
    "pred = np.argmax(proba, axis=1)\n",
    "print(f\"pred : {pred[:5]}\")  #------------submit에 제출할 예측답안\n",
    "\n",
    "\n",
    "#----------------------- 이런코딩 없다.. 그냥 해보자-----------------\n",
    "y_test22 = np.argmax(y_test.values, axis=1)\n",
    "print(f\"y_test : {y_test22[:5]}\")\n",
    "\n",
    "from sklearn.metrics import f1_score, confusion_matrix\n",
    "print( confusion_matrix(y_test22, pred) )"
   ]
  }
 ],
 "metadata": {
  "kernelspec": {
   "display_name": "Python 3 (ipykernel)",
   "language": "python",
   "name": "python3"
  },
  "language_info": {
   "codemirror_mode": {
    "name": "ipython",
    "version": 3
   },
   "file_extension": ".py",
   "mimetype": "text/x-python",
   "name": "python",
   "nbconvert_exporter": "python",
   "pygments_lexer": "ipython3",
   "version": "3.8.8"
  }
 },
 "nbformat": 4,
 "nbformat_minor": 5
}
