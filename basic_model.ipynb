{
 "cells": [
  {
   "cell_type": "code",
   "execution_count": 18,
   "id": "8e62c519-7dab-40ed-bfab-004ebb1d717b",
   "metadata": {},
   "outputs": [
    {
     "data": {
      "text/html": [
       "<style>.container{width:100% !important;}</style>"
      ],
      "text/plain": [
       "<IPython.core.display.HTML object>"
      ]
     },
     "metadata": {},
     "output_type": "display_data"
    }
   ],
   "source": [
    "import numpy as np\n",
    "import pandas as pd\n",
    "\n",
    "import matplotlib.pyplot as plt\n",
    "import seaborn as sns\n",
    "\n",
    "\n",
    "sns.set()\n",
    "\n",
    "#-------------------- 차트 관련 속성 (한글처리, 그리드) -----------\n",
    "plt.rcParams['font.family']= 'Malgun Gothic'\n",
    "plt.rcParams['axes.unicode_minus'] = False\n",
    "\n",
    "#-------------------- 주피터 , 출력결과 넓이 늘리기 ---------------\n",
    "# from IPython.core.display import display, HTML\n",
    "from IPython.display import display, HTML\n",
    "\n",
    "display(HTML(\"<style>.container{width:100% !important;}</style>\"))\n",
    "pd.set_option('display.max_rows', 100)\n",
    "pd.set_option('display.max_columns', 100)\n",
    "pd.set_option('max_colwidth', None)\n",
    "\n",
    "import warnings\n",
    "warnings.filterwarnings(action='ignore')"
   ]
  },
  {
   "cell_type": "code",
   "execution_count": 19,
   "id": "f987799a-405c-415d-a843-1703c05d9a6b",
   "metadata": {},
   "outputs": [],
   "source": [
    "import tensorflow as tf\n",
    "from tensorflow import keras\n",
    "from keras import Sequential\n",
    "from tensorflow.keras import layers\n",
    "from keras.layers import Dense\n",
    "from keras.initializers import GlorotNormal"
   ]
  },
  {
   "cell_type": "code",
   "execution_count": null,
   "id": "3480f10b-966b-48e9-88cb-14d51b7adaa4",
   "metadata": {},
   "outputs": [],
   "source": []
  },
  {
   "cell_type": "code",
   "execution_count": 20,
   "id": "20931670-3fa9-4ffc-98c8-5da213ec93fd",
   "metadata": {},
   "outputs": [
    {
     "data": {
      "text/html": [
       "<div>\n",
       "<style scoped>\n",
       "    .dataframe tbody tr th:only-of-type {\n",
       "        vertical-align: middle;\n",
       "    }\n",
       "\n",
       "    .dataframe tbody tr th {\n",
       "        vertical-align: top;\n",
       "    }\n",
       "\n",
       "    .dataframe thead th {\n",
       "        text-align: right;\n",
       "    }\n",
       "</style>\n",
       "<table border=\"1\" class=\"dataframe\">\n",
       "  <thead>\n",
       "    <tr style=\"text-align: right;\">\n",
       "      <th></th>\n",
       "      <th>sl</th>\n",
       "      <th>sw</th>\n",
       "      <th>pl</th>\n",
       "      <th>pw</th>\n",
       "      <th>target</th>\n",
       "    </tr>\n",
       "  </thead>\n",
       "  <tbody>\n",
       "    <tr>\n",
       "      <th>0</th>\n",
       "      <td>5.1</td>\n",
       "      <td>3.5</td>\n",
       "      <td>1.4</td>\n",
       "      <td>0.2</td>\n",
       "      <td>0</td>\n",
       "    </tr>\n",
       "    <tr>\n",
       "      <th>1</th>\n",
       "      <td>4.9</td>\n",
       "      <td>3.0</td>\n",
       "      <td>1.4</td>\n",
       "      <td>0.2</td>\n",
       "      <td>0</td>\n",
       "    </tr>\n",
       "    <tr>\n",
       "      <th>2</th>\n",
       "      <td>4.7</td>\n",
       "      <td>3.2</td>\n",
       "      <td>1.3</td>\n",
       "      <td>0.2</td>\n",
       "      <td>0</td>\n",
       "    </tr>\n",
       "    <tr>\n",
       "      <th>3</th>\n",
       "      <td>4.6</td>\n",
       "      <td>3.1</td>\n",
       "      <td>1.5</td>\n",
       "      <td>0.2</td>\n",
       "      <td>0</td>\n",
       "    </tr>\n",
       "    <tr>\n",
       "      <th>4</th>\n",
       "      <td>5.0</td>\n",
       "      <td>3.6</td>\n",
       "      <td>1.4</td>\n",
       "      <td>0.2</td>\n",
       "      <td>0</td>\n",
       "    </tr>\n",
       "    <tr>\n",
       "      <th>...</th>\n",
       "      <td>...</td>\n",
       "      <td>...</td>\n",
       "      <td>...</td>\n",
       "      <td>...</td>\n",
       "      <td>...</td>\n",
       "    </tr>\n",
       "    <tr>\n",
       "      <th>145</th>\n",
       "      <td>6.7</td>\n",
       "      <td>3.0</td>\n",
       "      <td>5.2</td>\n",
       "      <td>2.3</td>\n",
       "      <td>2</td>\n",
       "    </tr>\n",
       "    <tr>\n",
       "      <th>146</th>\n",
       "      <td>6.3</td>\n",
       "      <td>2.5</td>\n",
       "      <td>5.0</td>\n",
       "      <td>1.9</td>\n",
       "      <td>2</td>\n",
       "    </tr>\n",
       "    <tr>\n",
       "      <th>147</th>\n",
       "      <td>6.5</td>\n",
       "      <td>3.0</td>\n",
       "      <td>5.2</td>\n",
       "      <td>2.0</td>\n",
       "      <td>2</td>\n",
       "    </tr>\n",
       "    <tr>\n",
       "      <th>148</th>\n",
       "      <td>6.2</td>\n",
       "      <td>3.4</td>\n",
       "      <td>5.4</td>\n",
       "      <td>2.3</td>\n",
       "      <td>2</td>\n",
       "    </tr>\n",
       "    <tr>\n",
       "      <th>149</th>\n",
       "      <td>5.9</td>\n",
       "      <td>3.0</td>\n",
       "      <td>5.1</td>\n",
       "      <td>1.8</td>\n",
       "      <td>2</td>\n",
       "    </tr>\n",
       "  </tbody>\n",
       "</table>\n",
       "<p>150 rows × 5 columns</p>\n",
       "</div>"
      ],
      "text/plain": [
       "      sl   sw   pl   pw  target\n",
       "0    5.1  3.5  1.4  0.2       0\n",
       "1    4.9  3.0  1.4  0.2       0\n",
       "2    4.7  3.2  1.3  0.2       0\n",
       "3    4.6  3.1  1.5  0.2       0\n",
       "4    5.0  3.6  1.4  0.2       0\n",
       "..   ...  ...  ...  ...     ...\n",
       "145  6.7  3.0  5.2  2.3       2\n",
       "146  6.3  2.5  5.0  1.9       2\n",
       "147  6.5  3.0  5.2  2.0       2\n",
       "148  6.2  3.4  5.4  2.3       2\n",
       "149  5.9  3.0  5.1  1.8       2\n",
       "\n",
       "[150 rows x 5 columns]"
      ]
     },
     "execution_count": 20,
     "metadata": {},
     "output_type": "execute_result"
    }
   ],
   "source": [
    "df= pd.read_csv(\"../ML/datasets/iris.csv\")\n",
    "df"
   ]
  },
  {
   "cell_type": "code",
   "execution_count": 21,
   "id": "b8c80bfd-1cc8-41c4-a84a-e29de091511b",
   "metadata": {},
   "outputs": [],
   "source": [
    "from sklearn.model_selection import train_test_split "
   ]
  },
  {
   "cell_type": "code",
   "execution_count": 22,
   "id": "645d7d90-094e-4430-a307-5798cd16bf12",
   "metadata": {},
   "outputs": [
    {
     "name": "stdout",
     "output_type": "stream",
     "text": [
      "0    0\n",
      "1    0\n",
      "2    0\n",
      "3    0\n",
      "4    0\n",
      "Name: target, dtype: int64\n",
      "   0  1  2\n",
      "0  1  0  0\n",
      "1  1  0  0\n",
      "2  1  0  0\n",
      "3  1  0  0\n",
      "4  1  0  0\n",
      "[[1 0 0]\n",
      " [1 0 0]\n",
      " [1 0 0]\n",
      " [1 0 0]\n",
      " [1 0 0]]\n",
      "(150, 4) (150,)\n",
      "     0  1  2\n",
      "15   1  0  0\n",
      "79   0  1  0\n",
      "4    1  0  0\n",
      "117  0  0  1\n",
      "118  0  0  1\n"
     ]
    }
   ],
   "source": [
    "y = df['target']\n",
    "\n",
    "print(y[:5])\n",
    "\n",
    "yc = pd.get_dummies(y)\n",
    "print(yc[:5])\n",
    "\n",
    "from keras.utils import to_categorical\n",
    "yc2 = to_categorical(y, num_classes = 3 , dtype='int')\n",
    "print(yc2[:5])\n",
    "\n",
    "X = df.drop(['target'],  axis=1)\n",
    "print(X.shape, y.shape)\n",
    "\n",
    "X_train, X_test, y_train, y_test = train_test_split(X, yc, test_size=0.2, \n",
    "                                                    stratify=y, random_state=1111)\n",
    "X_train.shape, X_test.shape, y_train.shape, y_test.shape \n",
    "print(y_train[:5])"
   ]
  },
  {
   "cell_type": "code",
   "execution_count": 23,
   "id": "972ea556-b03a-4db4-bdaf-acfed5df6e71",
   "metadata": {},
   "outputs": [],
   "source": [
    "model = Sequential()\n",
    "model.add(Dense(10, input_dim = 4, activation='relu', kernel_initializer='glorot_normal'))\n",
    "model.add(Dense(6,  activation='relu'))\n",
    "model.add(Dense(6, activation='relu'))\n",
    "model.add(Dense(3, activation='softmax'))\n",
    "model.compile(loss= 'categorical_crossentropy',optimizer='Adam' ,metrics=['accuracy'] )\n"
   ]
  },
  {
   "cell_type": "code",
   "execution_count": 24,
   "id": "ea5c7478-8bc3-48a1-a28a-f3d9b4083c33",
   "metadata": {},
   "outputs": [
    {
     "name": "stdout",
     "output_type": "stream",
     "text": [
      "Model: \"sequential_1\"\n",
      "_________________________________________________________________\n",
      " Layer (type)                Output Shape              Param #   \n",
      "=================================================================\n",
      " dense_4 (Dense)             (None, 10)                50        \n",
      "                                                                 \n",
      " dense_5 (Dense)             (None, 6)                 66        \n",
      "                                                                 \n",
      " dense_6 (Dense)             (None, 6)                 42        \n",
      "                                                                 \n",
      " dense_7 (Dense)             (None, 3)                 21        \n",
      "                                                                 \n",
      "=================================================================\n",
      "Total params: 179\n",
      "Trainable params: 179\n",
      "Non-trainable params: 0\n",
      "_________________________________________________________________\n"
     ]
    }
   ],
   "source": [
    "model.summary()"
   ]
  },
  {
   "cell_type": "code",
   "execution_count": 25,
   "id": "e05c4afc-6961-49b5-b959-df67b193f7f3",
   "metadata": {},
   "outputs": [
    {
     "name": "stdout",
     "output_type": "stream",
     "text": [
      "Epoch 1/60\n",
      "4/4 [==============================] - 1s 40ms/step - loss: 1.1507 - accuracy: 0.3333 - val_loss: 1.1299 - val_accuracy: 0.3333\n",
      "Epoch 2/60\n",
      "4/4 [==============================] - 0s 8ms/step - loss: 1.1258 - accuracy: 0.3333 - val_loss: 1.1107 - val_accuracy: 0.3333\n",
      "Epoch 3/60\n",
      "4/4 [==============================] - 0s 10ms/step - loss: 1.1086 - accuracy: 0.3333 - val_loss: 1.0948 - val_accuracy: 0.3333\n",
      "Epoch 4/60\n",
      "4/4 [==============================] - 0s 9ms/step - loss: 1.0933 - accuracy: 0.3333 - val_loss: 1.0798 - val_accuracy: 0.3333\n",
      "Epoch 5/60\n",
      "4/4 [==============================] - 0s 8ms/step - loss: 1.0797 - accuracy: 0.3333 - val_loss: 1.0667 - val_accuracy: 0.3333\n",
      "Epoch 6/60\n",
      "4/4 [==============================] - 0s 9ms/step - loss: 1.0668 - accuracy: 0.3333 - val_loss: 1.0545 - val_accuracy: 0.3333\n",
      "Epoch 7/60\n",
      "4/4 [==============================] - 0s 9ms/step - loss: 1.0563 - accuracy: 0.3417 - val_loss: 1.0408 - val_accuracy: 0.4667\n",
      "Epoch 8/60\n",
      "4/4 [==============================] - 0s 10ms/step - loss: 1.0420 - accuracy: 0.4333 - val_loss: 1.0277 - val_accuracy: 0.5000\n",
      "Epoch 9/60\n",
      "4/4 [==============================] - 0s 8ms/step - loss: 1.0299 - accuracy: 0.5833 - val_loss: 1.0139 - val_accuracy: 0.6667\n",
      "Epoch 10/60\n",
      "4/4 [==============================] - 0s 9ms/step - loss: 1.0177 - accuracy: 0.6333 - val_loss: 1.0018 - val_accuracy: 0.6667\n",
      "Epoch 11/60\n",
      "4/4 [==============================] - 0s 8ms/step - loss: 1.0049 - accuracy: 0.6583 - val_loss: 0.9905 - val_accuracy: 0.6667\n",
      "Epoch 12/60\n",
      "4/4 [==============================] - 0s 9ms/step - loss: 0.9946 - accuracy: 0.6583 - val_loss: 0.9789 - val_accuracy: 0.6667\n",
      "Epoch 13/60\n",
      "4/4 [==============================] - 0s 8ms/step - loss: 0.9829 - accuracy: 0.6667 - val_loss: 0.9672 - val_accuracy: 0.6667\n",
      "Epoch 14/60\n",
      "4/4 [==============================] - 0s 10ms/step - loss: 0.9713 - accuracy: 0.6667 - val_loss: 0.9551 - val_accuracy: 0.6667\n",
      "Epoch 15/60\n",
      "4/4 [==============================] - 0s 9ms/step - loss: 0.9597 - accuracy: 0.6667 - val_loss: 0.9427 - val_accuracy: 0.6667\n",
      "Epoch 16/60\n",
      "4/4 [==============================] - 0s 9ms/step - loss: 0.9486 - accuracy: 0.6667 - val_loss: 0.9303 - val_accuracy: 0.6667\n",
      "Epoch 17/60\n",
      "4/4 [==============================] - 0s 9ms/step - loss: 0.9350 - accuracy: 0.6667 - val_loss: 0.9175 - val_accuracy: 0.6667\n",
      "Epoch 18/60\n",
      "4/4 [==============================] - 0s 9ms/step - loss: 0.9212 - accuracy: 0.6667 - val_loss: 0.9034 - val_accuracy: 0.6667\n",
      "Epoch 19/60\n",
      "4/4 [==============================] - 0s 9ms/step - loss: 0.9070 - accuracy: 0.6667 - val_loss: 0.8891 - val_accuracy: 0.6667\n",
      "Epoch 20/60\n",
      "4/4 [==============================] - 0s 10ms/step - loss: 0.8938 - accuracy: 0.6667 - val_loss: 0.8748 - val_accuracy: 0.6667\n",
      "Epoch 21/60\n",
      "4/4 [==============================] - 0s 9ms/step - loss: 0.8782 - accuracy: 0.6667 - val_loss: 0.8592 - val_accuracy: 0.6667\n",
      "Epoch 22/60\n",
      "4/4 [==============================] - 0s 8ms/step - loss: 0.8634 - accuracy: 0.6667 - val_loss: 0.8435 - val_accuracy: 0.6667\n",
      "Epoch 23/60\n",
      "4/4 [==============================] - 0s 8ms/step - loss: 0.8486 - accuracy: 0.6667 - val_loss: 0.8283 - val_accuracy: 0.6667\n",
      "Epoch 24/60\n",
      "4/4 [==============================] - 0s 8ms/step - loss: 0.8343 - accuracy: 0.6667 - val_loss: 0.8137 - val_accuracy: 0.6667\n",
      "Epoch 25/60\n",
      "4/4 [==============================] - 0s 9ms/step - loss: 0.8195 - accuracy: 0.6667 - val_loss: 0.7992 - val_accuracy: 0.6667\n",
      "Epoch 26/60\n",
      "4/4 [==============================] - 0s 9ms/step - loss: 0.8050 - accuracy: 0.6667 - val_loss: 0.7848 - val_accuracy: 0.6667\n",
      "Epoch 27/60\n",
      "4/4 [==============================] - 0s 9ms/step - loss: 0.7911 - accuracy: 0.6667 - val_loss: 0.7709 - val_accuracy: 0.6667\n",
      "Epoch 28/60\n",
      "4/4 [==============================] - 0s 8ms/step - loss: 0.7775 - accuracy: 0.6667 - val_loss: 0.7570 - val_accuracy: 0.6667\n",
      "Epoch 29/60\n",
      "4/4 [==============================] - 0s 9ms/step - loss: 0.7629 - accuracy: 0.6667 - val_loss: 0.7416 - val_accuracy: 0.6667\n",
      "Epoch 30/60\n",
      "4/4 [==============================] - 0s 9ms/step - loss: 0.7496 - accuracy: 0.6667 - val_loss: 0.7270 - val_accuracy: 0.6667\n",
      "Epoch 31/60\n",
      "4/4 [==============================] - 0s 9ms/step - loss: 0.7352 - accuracy: 0.6667 - val_loss: 0.7129 - val_accuracy: 0.6667\n",
      "Epoch 32/60\n",
      "4/4 [==============================] - 0s 9ms/step - loss: 0.7215 - accuracy: 0.6667 - val_loss: 0.6992 - val_accuracy: 0.6667\n",
      "Epoch 33/60\n",
      "4/4 [==============================] - 0s 8ms/step - loss: 0.7078 - accuracy: 0.6667 - val_loss: 0.6860 - val_accuracy: 0.6667\n",
      "Epoch 34/60\n",
      "4/4 [==============================] - 0s 8ms/step - loss: 0.6950 - accuracy: 0.6667 - val_loss: 0.6730 - val_accuracy: 0.7333\n",
      "Epoch 35/60\n",
      "4/4 [==============================] - 0s 9ms/step - loss: 0.6817 - accuracy: 0.7500 - val_loss: 0.6591 - val_accuracy: 0.8667\n",
      "Epoch 36/60\n",
      "4/4 [==============================] - 0s 9ms/step - loss: 0.6686 - accuracy: 0.7833 - val_loss: 0.6464 - val_accuracy: 0.8667\n",
      "Epoch 37/60\n",
      "4/4 [==============================] - 0s 14ms/step - loss: 0.6559 - accuracy: 0.8250 - val_loss: 0.6341 - val_accuracy: 0.9000\n",
      "Epoch 38/60\n",
      "4/4 [==============================] - 0s 10ms/step - loss: 0.6438 - accuracy: 0.8500 - val_loss: 0.6224 - val_accuracy: 0.9333\n",
      "Epoch 39/60\n",
      "4/4 [==============================] - 0s 8ms/step - loss: 0.6315 - accuracy: 0.9417 - val_loss: 0.6109 - val_accuracy: 0.9333\n",
      "Epoch 40/60\n",
      "4/4 [==============================] - 0s 8ms/step - loss: 0.6205 - accuracy: 0.9500 - val_loss: 0.5994 - val_accuracy: 0.9667\n",
      "Epoch 41/60\n",
      "4/4 [==============================] - 0s 9ms/step - loss: 0.6087 - accuracy: 0.9500 - val_loss: 0.5887 - val_accuracy: 0.9667\n",
      "Epoch 42/60\n",
      "4/4 [==============================] - 0s 8ms/step - loss: 0.5971 - accuracy: 0.9500 - val_loss: 0.5780 - val_accuracy: 0.9667\n",
      "Epoch 43/60\n",
      "4/4 [==============================] - 0s 8ms/step - loss: 0.5864 - accuracy: 0.9500 - val_loss: 0.5678 - val_accuracy: 0.9667\n",
      "Epoch 44/60\n",
      "4/4 [==============================] - 0s 9ms/step - loss: 0.5756 - accuracy: 0.9333 - val_loss: 0.5579 - val_accuracy: 0.9667\n",
      "Epoch 45/60\n",
      "4/4 [==============================] - 0s 8ms/step - loss: 0.5654 - accuracy: 0.9333 - val_loss: 0.5484 - val_accuracy: 0.9667\n",
      "Epoch 46/60\n",
      "4/4 [==============================] - 0s 9ms/step - loss: 0.5552 - accuracy: 0.9417 - val_loss: 0.5387 - val_accuracy: 0.9667\n",
      "Epoch 47/60\n",
      "4/4 [==============================] - 0s 9ms/step - loss: 0.5457 - accuracy: 0.9667 - val_loss: 0.5301 - val_accuracy: 0.9667\n",
      "Epoch 48/60\n",
      "4/4 [==============================] - 0s 8ms/step - loss: 0.5358 - accuracy: 0.9667 - val_loss: 0.5217 - val_accuracy: 0.9667\n",
      "Epoch 49/60\n",
      "4/4 [==============================] - 0s 9ms/step - loss: 0.5262 - accuracy: 0.9667 - val_loss: 0.5133 - val_accuracy: 0.9667\n",
      "Epoch 50/60\n",
      "4/4 [==============================] - 0s 9ms/step - loss: 0.5169 - accuracy: 0.9667 - val_loss: 0.5048 - val_accuracy: 0.9667\n",
      "Epoch 51/60\n",
      "4/4 [==============================] - 0s 8ms/step - loss: 0.5086 - accuracy: 0.9667 - val_loss: 0.4962 - val_accuracy: 0.9667\n",
      "Epoch 52/60\n",
      "4/4 [==============================] - 0s 9ms/step - loss: 0.4993 - accuracy: 0.9583 - val_loss: 0.4887 - val_accuracy: 0.9667\n",
      "Epoch 53/60\n",
      "4/4 [==============================] - 0s 9ms/step - loss: 0.4908 - accuracy: 0.9667 - val_loss: 0.4820 - val_accuracy: 0.9667\n",
      "Epoch 54/60\n",
      "4/4 [==============================] - 0s 9ms/step - loss: 0.4828 - accuracy: 0.9583 - val_loss: 0.4748 - val_accuracy: 0.9667\n",
      "Epoch 55/60\n",
      "4/4 [==============================] - 0s 9ms/step - loss: 0.4750 - accuracy: 0.9583 - val_loss: 0.4665 - val_accuracy: 0.9667\n",
      "Epoch 56/60\n",
      "4/4 [==============================] - 0s 8ms/step - loss: 0.4668 - accuracy: 0.9667 - val_loss: 0.4586 - val_accuracy: 0.9667\n",
      "Epoch 57/60\n",
      "4/4 [==============================] - 0s 8ms/step - loss: 0.4591 - accuracy: 0.9667 - val_loss: 0.4521 - val_accuracy: 0.9667\n",
      "Epoch 58/60\n",
      "4/4 [==============================] - 0s 9ms/step - loss: 0.4514 - accuracy: 0.9667 - val_loss: 0.4464 - val_accuracy: 0.9667\n",
      "Epoch 59/60\n",
      "4/4 [==============================] - 0s 9ms/step - loss: 0.4440 - accuracy: 0.9583 - val_loss: 0.4398 - val_accuracy: 0.9667\n",
      "Epoch 60/60\n",
      "4/4 [==============================] - 0s 9ms/step - loss: 0.4370 - accuracy: 0.9583 - val_loss: 0.4336 - val_accuracy: 0.9667\n",
      "<keras.callbacks.History object at 0x00000221C7BC3760>\n",
      "1/1 [==============================] - 0s 41ms/step\n"
     ]
    }
   ],
   "source": [
    "fit_history = model.fit(X_train, y_train, validation_data = (X_test, y_test), epochs=60)\n",
    "print(fit_history)\n",
    "pred = model.predict(X_test)"
   ]
  },
  {
   "cell_type": "code",
   "execution_count": 26,
   "id": "58f2f476-6d28-403c-9405-defeeb541a35",
   "metadata": {},
   "outputs": [
    {
     "data": {
      "image/png": "[encoded data removed]",
      "text/plain": [
       "<Figure size 1600x400 with 2 Axes>"
      ]
     },
     "metadata": {},
     "output_type": "display_data"
    }
   ],
   "source": [
    "plt.figure(figsize = (16,4))\n",
    "ax1 = plt.subplot(1,2,1)\n",
    "ax1.plot(fit_history.history['loss'], label = \"loss\")\n",
    "ax1.plot(fit_history.history['val_loss'], label = \"val_loss\")\n",
    "\n",
    "\n",
    "ax2= plt.subplot(1,2,2)\n",
    "ax2.plot(fit_history.history['accuracy'], label = \"accuracy\")\n",
    "ax2.plot(fit_history.history['val_accuracy'], label = \"val_accuracy\")\n",
    "\n",
    "plt.show()"
   ]
  },
  {
   "cell_type": "code",
   "execution_count": 27,
   "id": "03ae04fd-ad3c-4ce4-8900-2db99fdb3b42",
   "metadata": {},
   "outputs": [
    {
     "name": "stdout",
     "output_type": "stream",
     "text": [
      "1/1 [==============================] - 0s 18ms/step - loss: 0.4336 - accuracy: 0.9667\n"
     ]
    },
    {
     "data": {
      "text/plain": [
       "[0.4336307644844055, 0.9666666388511658]"
      ]
     },
     "execution_count": 27,
     "metadata": {},
     "output_type": "execute_result"
    }
   ],
   "source": [
    "model.evaluate(X_test, y_test)"
   ]
  },
  {
   "cell_type": "code",
   "execution_count": 28,
   "id": "3fe13530-7357-46f4-bf80-5e677b7124d8",
   "metadata": {},
   "outputs": [
    {
     "name": "stdout",
     "output_type": "stream",
     "text": [
      "1/1 [==============================] - 0s 17ms/step\n",
      "[[0.12993896 0.51472807 0.35533294]\n",
      " [0.10970808 0.49228534 0.3980066 ]\n",
      " [0.10245082 0.5114532  0.386096  ]\n",
      " [0.02237869 0.36770663 0.60991466]\n",
      " [0.9131165  0.07830966 0.00857382]]\n",
      "[1 1 1 2 0 1 0 2 2 2 0 2 0 0 0 2 0 2 0 2 1 1 1 1 2 0 0 1 2 2]\n",
      "[1 1 1 2 0 1 0 2 2 2 0 2 0 0 0 2 0 2 0 2 1 1 1 1 1 0 0 1 2 2]\n"
     ]
    },
    {
     "data": {
      "text/plain": [
       "array([[10,  0,  0],\n",
       "       [ 0,  9,  1],\n",
       "       [ 0,  0, 10]], dtype=int64)"
      ]
     },
     "execution_count": 28,
     "metadata": {},
     "output_type": "execute_result"
    }
   ],
   "source": [
    "proba = model.predict(X_test)\n",
    "print(pred[:5])\n",
    "pred = np.argmax(proba, axis=1)\n",
    "print(pred)\n",
    "\n",
    "y_test22 =  np.argmax(y_test.values, axis=1)\n",
    "print(y_test22)\n",
    "\n",
    "\n",
    "from sklearn.metrics import f1_score, confusion_matrix\n",
    "confusion_matrix(y_test22, pred)\n",
    "\n",
    "\n",
    "# print(f1_score(y_test, pred))\n"
   ]
  },
  {
   "cell_type": "code",
   "execution_count": null,
   "id": "de80e3b0-e588-4011-a123-63faa543debf",
   "metadata": {},
   "outputs": [],
   "source": []
  }
 ],
 "metadata": {
  "kernelspec": {
   "display_name": "Python 3 (ipykernel)",
   "language": "python",
   "name": "python3"
  },
  "language_info": {
   "codemirror_mode": {
    "name": "ipython",
    "version": 3
   },
   "file_extension": ".py",
   "mimetype": "text/x-python",
   "name": "python",
   "nbconvert_exporter": "python",
   "pygments_lexer": "ipython3",
   "version": "3.8.8"
  }
 },
 "nbformat": 4,
 "nbformat_minor": 5
}
