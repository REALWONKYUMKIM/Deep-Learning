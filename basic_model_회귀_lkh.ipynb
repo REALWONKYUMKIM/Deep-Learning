{
 "cells": [
  {
   "cell_type": "markdown",
   "id": "8ed33f16-f17e-435b-91bf-f7f963675885",
   "metadata": {},
   "source": [
    "<font size=6><b> 딥러닝 기초(회귀)"
   ]
  },
  {
   "cell_type": "markdown",
   "id": "731b42ce-42ea-4233-912b-6cb998e0c50d",
   "metadata": {},
   "source": [
    "* ref : https://www.tensorflow.org/?hl=ko\n",
    "* ref : https://keras.io/ko/\n",
    "* ref : https://keras.io/api/layers/core_layers/dense/"
   ]
  },
  {
   "cell_type": "code",
   "execution_count": 1,
   "id": "3384892d-13c8-4e56-9a4c-f5edfdced530",
   "metadata": {},
   "outputs": [
    {
     "data": {
      "text/html": [
       "<style>.container{width:100% !important;}</style>"
      ],
      "text/plain": [
       "<IPython.core.display.HTML object>"
      ]
     },
     "metadata": {},
     "output_type": "display_data"
    }
   ],
   "source": [
    "import numpy as np\n",
    "import pandas as pd\n",
    "\n",
    "import matplotlib.pyplot as plt\n",
    "import seaborn as sns\n",
    "\n",
    "\n",
    "sns.set()\n",
    "\n",
    "#-------------------- 차트 관련 속성 (한글처리, 그리드) -----------\n",
    "plt.rcParams['font.family']= 'Malgun Gothic'\n",
    "plt.rcParams['axes.unicode_minus'] = False\n",
    "\n",
    "#-------------------- 주피터 , 출력결과 넓이 늘리기 ---------------\n",
    "# from IPython.core.display import display, HTML\n",
    "from IPython.display import display, HTML\n",
    "\n",
    "display(HTML(\"<style>.container{width:100% !important;}</style>\"))\n",
    "pd.set_option('display.max_rows', 100)\n",
    "pd.set_option('display.max_columns', 100)\n",
    "pd.set_option('max_colwidth', None)\n",
    "\n",
    "import warnings\n",
    "warnings.filterwarnings(action='ignore')"
   ]
  },
  {
   "cell_type": "markdown",
   "id": "3a4cbb7b-b53c-4b3e-81a9-bfe245d61e31",
   "metadata": {},
   "source": [
    "# Data Load"
   ]
  },
  {
   "cell_type": "code",
   "execution_count": 2,
   "id": "ad19c67a-83f8-4a75-9721-bfe5deacf33d",
   "metadata": {},
   "outputs": [],
   "source": [
    "column_names = ['CRIM', 'ZN', 'INDUS', 'CHAS', 'NOX', 'RM', 'AGE', 'DIS', 'RAD', 'TAX', 'PTRATIO', 'B', 'LSTAT', 'MEDV']"
   ]
  },
  {
   "cell_type": "code",
   "execution_count": 3,
   "id": "38124a28-6eb5-443b-a944-48cef78a5bd2",
   "metadata": {
    "tags": []
   },
   "outputs": [
    {
     "name": "stdout",
     "output_type": "stream",
     "text": [
      "<class 'pandas.core.frame.DataFrame'>\n",
      "RangeIndex: 506 entries, 0 to 505\n",
      "Data columns (total 14 columns):\n",
      " #   Column   Non-Null Count  Dtype  \n",
      "---  ------   --------------  -----  \n",
      " 0   CRIM     506 non-null    float64\n",
      " 1   ZN       506 non-null    float64\n",
      " 2   INDUS    506 non-null    float64\n",
      " 3   CHAS     506 non-null    int64  \n",
      " 4   NOX      506 non-null    float64\n",
      " 5   RM       506 non-null    float64\n",
      " 6   AGE      506 non-null    float64\n",
      " 7   DIS      506 non-null    float64\n",
      " 8   RAD      506 non-null    int64  \n",
      " 9   TAX      506 non-null    float64\n",
      " 10  PTRATIO  506 non-null    float64\n",
      " 11  B        506 non-null    float64\n",
      " 12  LSTAT    506 non-null    float64\n",
      " 13  MEDV     506 non-null    float64\n",
      "dtypes: float64(12), int64(2)\n",
      "memory usage: 55.5 KB\n"
     ]
    }
   ],
   "source": [
    "df = pd.read_csv('../ML/datasets/housing.csv', header=None, delimiter=r\"\\s+\", names=column_names)\n",
    "df.info()"
   ]
  },
  {
   "cell_type": "code",
   "execution_count": 4,
   "id": "a1415cbc-8a5a-4b8f-8b96-46def0df439d",
   "metadata": {
    "tags": []
   },
   "outputs": [
    {
     "data": {
      "text/plain": [
       "((455, 13), (51, 13), (455,), (51,))"
      ]
     },
     "execution_count": 4,
     "metadata": {},
     "output_type": "execute_result"
    }
   ],
   "source": [
    "from sklearn.model_selection import train_test_split\n",
    "y = df['MEDV']\n",
    "X = df.drop(['MEDV'], axis=1)\n",
    "X_train, X_test, y_train, y_test = train_test_split(X,y, test_size=0.1, random_state=1234)\n",
    "X_train.shape, X_test.shape, y_train.shape, y_test.shape"
   ]
  },
  {
   "cell_type": "markdown",
   "id": "c1ac1de8-125a-4601-9199-911e07ebe27d",
   "metadata": {},
   "source": [
    "# ML"
   ]
  },
  {
   "cell_type": "code",
   "execution_count": 5,
   "id": "52cedce3-7398-436a-93c9-8b4eec5e97e9",
   "metadata": {
    "tags": []
   },
   "outputs": [
    {
     "name": "stdout",
     "output_type": "stream",
     "text": [
      "RMSE : 4.0695\n"
     ]
    }
   ],
   "source": [
    "from sklearn.linear_model import Ridge\n",
    "from sklearn.metrics import mean_squared_error\n",
    "\n",
    "model = Ridge(alpha=1.0, random_state=1234)\n",
    "model.fit(X_train, y_train)\n",
    "pred = model.predict(X_test)\n",
    "rmse = mean_squared_error(y_test, pred, squared=False)\n",
    "print(f\"RMSE : {rmse:.4f}\")"
   ]
  },
  {
   "cell_type": "markdown",
   "id": "211218ab-0052-47cc-bc53-c3d22ba5d375",
   "metadata": {},
   "source": [
    "# DL"
   ]
  },
  {
   "cell_type": "markdown",
   "id": "fe63ad96-73dd-46bc-806c-a4a186385d6f",
   "metadata": {},
   "source": [
    "## seed 고정"
   ]
  },
  {
   "cell_type": "code",
   "execution_count": 6,
   "id": "b7bd1d27-9358-425d-b95c-40231b776b88",
   "metadata": {
    "tags": []
   },
   "outputs": [],
   "source": [
    "import tensorflow as tf\n",
    "tf.random.set_seed(1234)\n",
    "np.random.seed(1234)"
   ]
  },
  {
   "cell_type": "code",
   "execution_count": 7,
   "id": "26e6d1c1-af1c-4fbd-b0d6-1281f1001935",
   "metadata": {
    "tags": []
   },
   "outputs": [],
   "source": [
    "from keras.models import Sequential\n",
    "from keras.layers import Dense"
   ]
  },
  {
   "cell_type": "code",
   "execution_count": 8,
   "id": "afb0e4f2-8cd9-4e0d-8968-5d4a76f6c0ca",
   "metadata": {
    "tags": []
   },
   "outputs": [
    {
     "data": {
      "text/plain": [
       "(Index(['CRIM', 'ZN', 'INDUS', 'CHAS', 'NOX', 'RM', 'AGE', 'DIS', 'RAD', 'TAX',\n",
       "        'PTRATIO', 'B', 'LSTAT'],\n",
       "       dtype='object'),\n",
       " 13)"
      ]
     },
     "execution_count": 8,
     "metadata": {},
     "output_type": "execute_result"
    }
   ],
   "source": [
    "X_train.columns, len(X_train.columns)"
   ]
  },
  {
   "cell_type": "markdown",
   "id": "7ce5936c-d70e-4e6d-9d2d-a056f6211d54",
   "metadata": {
    "tags": []
   },
   "source": [
    "## <font color=red><b>Activation Function</b></font>\n",
    "* ref : https://keras.io/api/layers/activations/\n",
    "    * ReLu : 기울기소실(역전파 시 w 사라짐) 문제 완화\n",
    "    * Sigmoid\n",
    "    * Softmax\n",
    "    * Hyperbolic Tangent\n",
    "    \n",
    "<pre>\n",
    "    from tensorflow.keras import activations as act\n",
    "    act.relu\n",
    "\n",
    "    from keras import activations as act\n",
    "    act.relu()\n",
    "    act.sigmoid()\n",
    "    act.softmax()\n",
    "    act.tanh()"
   ]
  },
  {
   "cell_type": "markdown",
   "id": "c9850ffd-9c9b-4f91-b275-0bef3582aa6f",
   "metadata": {
    "tags": []
   },
   "source": [
    "##  <font color=red><b>Losses (loss function)</b></font> \n",
    "* ref : https://keras.io/api/losses/\n",
    "   * <b>Aliases</b>\n",
    "    * bce = BCE = binary_crossentropy  \n",
    "    * mse = MSE = mean_squared_error  \n",
    "    * mae = MAE = mean_absolute_error  \n",
    "    * mape = MAPE = mean_absolute_percentage_error  \n",
    "    * msle = MSLE = mean_squared_logarithmic_error  \n",
    "    * kld = KLD = kullback_leibler_divergence = kl_divergence  \n",
    "    * logcosh = log_cosh  \n",
    "    * huber_loss = huber\n",
    "* Probabilistic losses\n",
    "    * <font color=blue>binary_cross_entropy(원본값 둘중하나) : 0,1\n",
    "    * <font color=blue>sparse_categorical_cross_entropy(원본값 n중 하나) : 0 ~ 9         \n",
    "    * <font color=blue>categorical_cross_entropy(원핫인코딩) : 100000000 ~ 000000001  </font> -- get-dummies needed\n",
    "* Regression losses\n",
    "    * <font color=blue>mse,mae,rmse</blue>\n",
    "* Hinge losses for \"maximum-margin\" classification\n",
    "    * Hinge class ...\n",
    "\n",
    "<pre>        \n",
    "    from keras import losses as loss  \n",
    "    loss.binary_crossentropy()  \n",
    "    loss.categorical_crossentropy()  \n",
    "    loss.sparse_categorical_crossentropy()  \n",
    "    loss.cosine_similarity()  \n",
    "    loss.mean_squared_error()  \n",
    "    <font color=blue><b>\n",
    "    loss.MSE  -- V  \n",
    "    loss.mse  -- v  \n",
    "    loss.mean_squared_error() --f  \n",
    "    \n",
    "        model.compile(loss=\"mean_squared_error\")  \n",
    "        model.compile(loss=\"mse\")  \n",
    "        model.compile(loss=\"MSE\")  \n",
    "        model.compile(loss=tf.keras.losses.mean_squared_error())</b></font>\n",
    "    \n",
    "</pre>"
   ]
  },
  {
   "cell_type": "markdown",
   "id": "201bf2ff-c9d7-479b-a86b-7c2816978f20",
   "metadata": {
    "tags": []
   },
   "source": [
    "## <font color=red><b>Optimizer</b></font>\n",
    "*  https://keras.io/api/optimizers/\n",
    "    * Gradient Descent\n",
    "    * Statistic Gradient Descent\n",
    "    * Momentum\n",
    "    * AdaGrade\n",
    "    * Adam\n",
    "    * RmsProp\n",
    "    \n",
    "<pre>\n",
    "    from keras import optimizers as opt  \n",
    "    opt.Adam()  \n",
    "    opt.Adadelta()  \n",
    "    opt.Adagrad()  \n",
    "    opt.Optimizer()  \n",
    "    opt.RMSprop()  \n",
    "    opt.SGD()  \n",
    "    opt.TFOptimizer()\n",
    "    \n",
    "    from keras.optimizers import Adam  \n",
    "    a = Adam(learning_rate=0.001, ... , name=\"Adam\")  \n",
    "    \n",
    "    <font color=blue><b>\n",
    "    model.compile(optimizer='adam')\n",
    "    model.compile(optimizer=keras.optimizers.Adam(learning_rate=0.001)) \n"
   ]
  },
  {
   "cell_type": "markdown",
   "id": "75b409e3-0e98-4185-bdfb-4ac1a6255265",
   "metadata": {},
   "source": [
    "## <font color=red><b>metrics</b></font>\n",
    "* ref : https://keras.io/api/metrics/)\n",
    "    * Probabilistic metrics : Crossentropy ...\n",
    "    * Regression metrics : MeanSquaredError ... \n",
    "    * Hinge metrics for \"maximum-margin\" classification<br><br>\n",
    "    * Accuracy metrics : Accuracy ...\n",
    "    * Classification metrics based on True/False : AUC, Precision ...\n",
    "    * Image segmentation metrics\n",
    "    \n",
    "<pre>\n",
    "    from keras.metrics import Accuracy\n",
    "    acc = Accuracy(name=\"accuracy\", dtype=None)\n",
    "\n",
    "    from keras.metrics import BinaryCrossentropy\n",
    "    cr = BinaryCrossentropy(name=\"binary_crossentropy\", ...)\n",
    "    \n",
    "    <font color=blue><b>\n",
    "    model.compile(metrics=[keras.metrics.Accuracy()])\n",
    "    model.compile(metrics=['accuracy'])"
   ]
  },
  {
   "cell_type": "markdown",
   "id": "0b173d2f-844c-4139-a5e3-d2e55cff5d0d",
   "metadata": {},
   "source": [
    "## 사용자 정의 metrics"
   ]
  },
  {
   "cell_type": "code",
   "execution_count": 9,
   "id": "a964cd21-8419-40e1-9307-f7d911a7189c",
   "metadata": {},
   "outputs": [],
   "source": [
    "import tensorflow as tf\n",
    "from keras.optimizers import Adam  \n",
    "from keras.losses import MeanSquaredError\n",
    "\n",
    "@tf.function\n",
    "def my_mse_def(y_true, y_pred):\n",
    "    return -1 * keras.losses.MSE(y_true, y_pred)\n",
    "\n",
    "model = Sequential()\n",
    "model.add(Dense(units=56, input_dim=len(X_train.columns), activation='relu'))\n",
    "model.add(Dense(units=24 , activation='relu'))\n",
    "model.add(Dense(units=26 , activation='relu'))\n",
    "model.add(Dense(units=12 , activation='relu'))\n",
    "model.add(Dense(units=8  , activation='relu'))\n",
    "model.add(Dense(units=4  , activation='relu'))\n",
    "model.add(Dense(units=1  ))\n",
    "\n",
    "model.compile(loss=my_mse_def,\n",
    "              optimizer=Adam(lr=0.001),\n",
    "              metrics=  [tf.keras.losses.MeanSquaredError()]  \n",
    "             )\n"
   ]
  },
  {
   "cell_type": "markdown",
   "id": "98feb14f-c640-4d1d-877a-e26d95f38fff",
   "metadata": {},
   "source": [
    "* ref  : https://neptune.ai/blog/keras-metrics"
   ]
  },
  {
   "cell_type": "code",
   "execution_count": 10,
   "id": "d4bb1b3e-1f13-4130-8614-bda753333f29",
   "metadata": {},
   "outputs": [],
   "source": [
    "\n",
    "# def recall(y_true, y_pred):\n",
    "#     y_true = K.ones_like(y_true)\n",
    "#     true_positives = K.sum(K.round(K.clip(y_true * y_pred, 0, 1)))\n",
    "#     all_positives = K.sum(K.round(K.clip(y_true, 0, 1)))\n",
    "\n",
    "#     recall = true_positives / (all_positives + K.epsilon())\n",
    "#     return recall\n",
    "\n",
    "# def precision(y_true, y_pred):\n",
    "#     y_true = K.ones_like(y_true)\n",
    "#     true_positives = K.sum(K.round(K.clip(y_true * y_pred, 0, 1)))\n",
    "\n",
    "#     predicted_positives = K.sum(K.round(K.clip(y_pred, 0, 1)))\n",
    "#     precision = true_positives / (predicted_positives + K.epsilon())\n",
    "#     return precision\n",
    "\n",
    "# def f1_score(y_true, y_pred):\n",
    "#     precision = precision_m(y_true, y_pred)\n",
    "#     recall = recall_m(y_true, y_pred)\n",
    "#     return 2*((precision*recall)/(precision+recall+K.epsilon()))\n",
    "\n",
    "\n",
    "# model.compile(loss='mse',\n",
    "#               optimizer=Adam(lr=0.001),\n",
    "#               metrics= ['accuracy', f1_score]  #, precision, recall]  \n",
    "#              )\n",
    "\n",
    "# fit_hisroty = model.fit(X_train, y_train\n",
    "#                         , validation_data=(X_test, y_test)\n",
    "#                         , epochs=100\n",
    "#                         , batch_size = 32\n",
    "#                         , steps_per_epoch = 455/32\n",
    "#                        )"
   ]
  },
  {
   "cell_type": "markdown",
   "id": "40ec3e44-5eab-4c2a-9191-0d96e4541b2c",
   "metadata": {
    "tags": []
   },
   "source": [
    "## 모델 Sequential()\n",
    "* from keras.models import Sequential\n",
    "* from keras.layers import Dense"
   ]
  },
  {
   "cell_type": "code",
   "execution_count": 11,
   "id": "d21592f6-2aa0-4cfc-802c-4ff174690a12",
   "metadata": {
    "tags": []
   },
   "outputs": [],
   "source": [
    "model = Sequential()\n",
    "model.add(Dense(units=56, input_dim=len(X_train.columns), activation='relu'))\n",
    "model.add(Dense(units=24 , activation='relu'))\n",
    "model.add(Dense(units=26 , activation='relu'))\n",
    "model.add(Dense(units=12 , activation='relu'))\n",
    "model.add(Dense(units=8  , activation='relu'))\n",
    "model.add(Dense(units=4  , activation='relu'))\n",
    "model.add(Dense(units=1  ))  #-----------------회귀 : y^ = wx+b\n",
    "model.compile(loss=\"mean_squared_error\", optimizer=\"adam\", metrics=\"mse\") #----------l o m"
   ]
  },
  {
   "cell_type": "code",
   "execution_count": 12,
   "id": "70ee2724-62a4-45b4-b320-5714239a1038",
   "metadata": {
    "tags": []
   },
   "outputs": [
    {
     "name": "stdout",
     "output_type": "stream",
     "text": [
      "Model: \"sequential_1\"\n",
      "_________________________________________________________________\n",
      " Layer (type)                Output Shape              Param #   \n",
      "=================================================================\n",
      " dense_7 (Dense)             (None, 56)                784       \n",
      "                                                                 \n",
      " dense_8 (Dense)             (None, 24)                1368      \n",
      "                                                                 \n",
      " dense_9 (Dense)             (None, 26)                650       \n",
      "                                                                 \n",
      " dense_10 (Dense)            (None, 12)                324       \n",
      "                                                                 \n",
      " dense_11 (Dense)            (None, 8)                 104       \n",
      "                                                                 \n",
      " dense_12 (Dense)            (None, 4)                 36        \n",
      "                                                                 \n",
      " dense_13 (Dense)            (None, 1)                 5         \n",
      "                                                                 \n",
      "=================================================================\n",
      "Total params: 3,271\n",
      "Trainable params: 3,271\n",
      "Non-trainable params: 0\n",
      "_________________________________________________________________\n"
     ]
    }
   ],
   "source": [
    "model.summary()"
   ]
  },
  {
   "cell_type": "code",
   "execution_count": 13,
   "id": "ce1e3f1e-e2df-4805-93dc-fd29a3b5b2b5",
   "metadata": {
    "tags": []
   },
   "outputs": [],
   "source": [
    "# from keras.applications import InceptionV3\n",
    "# mo = InceptionV3()\n",
    "# mo.summary()"
   ]
  },
  {
   "cell_type": "markdown",
   "id": "206f3436-be0a-4700-83af-fa7184d475a0",
   "metadata": {},
   "source": [
    "### hidden layer 확인"
   ]
  },
  {
   "cell_type": "code",
   "execution_count": 14,
   "id": "5fb5c187-7f6f-40fe-9846-11c424b49c3e",
   "metadata": {
    "tags": []
   },
   "outputs": [
    {
     "data": {
      "text/plain": [
       "<KerasTensor: shape=(None, 56) dtype=float32 (created by layer 'dense_7')>"
      ]
     },
     "execution_count": 14,
     "metadata": {},
     "output_type": "execute_result"
    }
   ],
   "source": [
    "model.layers[0].output"
   ]
  },
  {
   "cell_type": "code",
   "execution_count": 15,
   "id": "21e361fd-f22c-41ab-952c-b1ba992344ce",
   "metadata": {
    "tags": []
   },
   "outputs": [
    {
     "data": {
      "text/plain": [
       "<KerasTensor: shape=(None, 56) dtype=float32 (created by layer 'dense_7')>"
      ]
     },
     "execution_count": 15,
     "metadata": {},
     "output_type": "execute_result"
    }
   ],
   "source": [
    "model.get_layer('dense_7').output"
   ]
  },
  {
   "cell_type": "code",
   "execution_count": 16,
   "id": "59d48554-7427-4603-89dd-dbf9476c1505",
   "metadata": {
    "tags": []
   },
   "outputs": [
    {
     "data": {
      "text/plain": [
       "<KerasTensor: shape=(None, 13) dtype=float32 (created by layer 'dense_7_input')>"
      ]
     },
     "execution_count": 16,
     "metadata": {},
     "output_type": "execute_result"
    }
   ],
   "source": [
    "model.input"
   ]
  },
  {
   "cell_type": "markdown",
   "id": "e9967cd0-6ab1-4a1c-b394-051ee298531b",
   "metadata": {},
   "source": [
    "* ref : https://keras.io/api/models/model/\n",
    "* ref : https://keras.io/ko/initializers/"
   ]
  },
  {
   "cell_type": "markdown",
   "id": "fbcdbac0-3432-4ce2-ba61-568d928fc54d",
   "metadata": {},
   "source": [
    "### 배치정규화\n",
    "* <font color=red>Xavier 배치 정규화</font>\n",
    "    * kernel_initializer='glorot_normal'\n",
    "    * keras.initializers.glorot_normal(seed=None)\n",
    "    * stddev = 1 / sqrt(fan_in)\n",
    "    * sigmoid <br><br>\n",
    "* <font color=red>HE 배치 정규화</font>\n",
    "    * kernel_initializer='he_normal'\n",
    "    * keras.initializers.he_normal(seed=None)\n",
    "    * stddev = sqrt(2 / fan_in)\n",
    "    * relu\n",
    "* model.add(Dense(units=10, input_dim=4, activation='relu', <font color=red>kernel_initializer='glorot_normal'</font>))     "
   ]
  },
  {
   "cell_type": "code",
   "execution_count": 17,
   "id": "655bf098-f487-4dc0-bb53-9fb6bc81eae7",
   "metadata": {
    "tags": []
   },
   "outputs": [
    {
     "name": "stdout",
     "output_type": "stream",
     "text": [
      "input :         CRIM    ZN  INDUS  CHAS    NOX     RM   AGE    DIS  RAD    TAX  \\\n",
      "304  0.05515  33.0   2.18     0  0.472  7.236  41.1  4.022    7  222.0   \n",
      "\n",
      "     PTRATIO       B  LSTAT  \n",
      "304     18.4  393.68   6.93  \n",
      "output : [[  0.          64.03607    127.04916      0.53551507  57.880985\n",
      "    0.           0.           0.         132.78442      0.\n",
      "    0.           0.           0.           0.           0.\n",
      "   75.90544      0.           0.          68.07633     76.16186\n",
      "   59.07369      0.          68.21419      5.0779934    0.\n",
      "   62.633904    74.01844     37.926353     0.          34.503197\n",
      "   31.85741      0.           0.          16.423162     0.\n",
      "    0.         137.93587      0.          81.5868      40.52063\n",
      "    0.           0.          16.712366     0.          82.54103\n",
      "    0.          15.605442    16.649632     0.           0.\n",
      "   48.693226     4.7161665  140.27534      0.           0.\n",
      "   48.61      ]]\n",
      "hidden_layer1_model weight : (13, 56)\n",
      "hidden_layer1_model weight : [array([[ 2.51806140e-01, -2.32128665e-01,  1.86418504e-01,\n",
      "         9.73185003e-02,  2.04963207e-01, -1.12957165e-01,\n",
      "        -2.34160721e-01,  2.32188582e-01, -1.07763603e-01,\n",
      "        -9.59276259e-02,  3.27242017e-02,  2.80122280e-01,\n",
      "         1.23252898e-01, -1.56696513e-01,  6.73821270e-02,\n",
      "         2.63663709e-01,  1.39538020e-01, -2.51053721e-01,\n",
      "         2.12337136e-01, -1.93727136e-01,  1.57295316e-01,\n",
      "        -1.74826488e-01,  1.45508468e-01,  6.63366914e-02,\n",
      "        -1.12962231e-01, -1.50009245e-01,  1.09236091e-01,\n",
      "        -1.68973461e-01, -1.97174162e-01, -1.51303634e-01,\n",
      "         6.80108070e-02,  2.35248208e-01,  9.94225144e-02,\n",
      "         2.51494586e-01, -2.32904255e-02,  1.70894295e-01,\n",
      "        -2.87779003e-01, -5.57191819e-02,  3.85909379e-02,\n",
      "         9.14054215e-02,  2.50196397e-01, -5.04925698e-02,\n",
      "        -1.59819156e-01,  6.84129000e-02,  1.90463841e-01,\n",
      "        -1.38075888e-01,  1.88468754e-01, -1.71294242e-01,\n",
      "        -2.73978263e-01,  1.38167769e-01, -8.65915120e-02,\n",
      "         2.32104897e-01, -3.72906923e-02,  1.60418361e-01,\n",
      "        -1.39607564e-01,  7.71150589e-02],\n",
      "       [-4.52303290e-02,  1.79298013e-01,  1.68105870e-01,\n",
      "         2.47661471e-02,  7.47911036e-02, -1.50873587e-01,\n",
      "         2.77068973e-01, -2.28160053e-01,  3.74779701e-02,\n",
      "         1.39478415e-01, -1.05087698e-01, -1.51096806e-01,\n",
      "        -1.95441276e-01,  1.14996731e-01, -2.52009183e-01,\n",
      "         5.39048016e-02, -2.29497552e-01, -2.58862436e-01,\n",
      "        -6.01000041e-02,  4.05581594e-02, -1.46517158e-02,\n",
      "        -1.94448978e-01,  2.69659042e-01,  1.60391241e-01,\n",
      "        -9.77509320e-02,  1.50285333e-01,  8.78387392e-02,\n",
      "        -2.57978141e-02,  2.49635458e-01, -1.39724761e-01,\n",
      "         2.19586194e-01, -1.63861811e-02, -4.18276489e-02,\n",
      "         3.08015943e-02, -2.45111823e-01, -2.28490472e-01,\n",
      "         3.87858748e-02,  2.44331658e-02,  1.23043865e-01,\n",
      "        -2.23137617e-01, -1.32114932e-01,  5.25828302e-02,\n",
      "         8.48773122e-03, -1.97487026e-01,  2.04689801e-01,\n",
      "        -4.46838439e-02, -2.76133776e-01,  1.37268841e-01,\n",
      "         2.88219333e-01,  6.31389618e-02,  2.79906809e-01,\n",
      "        -2.12027252e-01, -6.52660728e-02, -1.50475502e-01,\n",
      "        -3.23266089e-02, -1.38686910e-01],\n",
      "       [-2.23829359e-01, -1.91316426e-01,  1.61761343e-01,\n",
      "         1.01660013e-01, -1.34103179e-01, -2.41622478e-01,\n",
      "        -1.60882518e-01, -7.37671703e-02, -2.00546682e-02,\n",
      "         3.78732383e-02, -5.08525372e-02, -2.73583919e-01,\n",
      "        -2.53787905e-01, -1.57164469e-01, -2.50146568e-01,\n",
      "        -2.50160694e-02,  6.47828579e-02, -1.36266425e-01,\n",
      "        -1.38067305e-01, -1.93853348e-01,  2.35867620e-01,\n",
      "         2.46259511e-01,  1.18368536e-01, -3.49419713e-02,\n",
      "         1.83172524e-02, -1.01411968e-01, -2.83948690e-01,\n",
      "         2.55438626e-01,  1.28247827e-01, -1.77280441e-01,\n",
      "         7.93385506e-03, -1.07601553e-01, -1.25158742e-01,\n",
      "         2.59969890e-01, -2.88956761e-02,  2.48533845e-01,\n",
      "         1.33926451e-01,  6.87389076e-02,  1.23158902e-01,\n",
      "        -1.29385307e-01,  1.81058258e-01,  2.24260092e-02,\n",
      "        -1.44739896e-01,  2.50666618e-01, -5.91245741e-02,\n",
      "        -1.32986307e-01,  4.98202443e-03,  1.05844051e-01,\n",
      "        -2.38319650e-01, -7.46651888e-02,  1.82347029e-01,\n",
      "        -1.60630554e-01,  1.12838417e-01, -2.46626139e-03,\n",
      "        -2.35213131e-01,  1.29695088e-01],\n",
      "       [-2.46315598e-01,  1.12256140e-01, -2.18022302e-01,\n",
      "         6.71778917e-02,  1.25678509e-01,  1.28503472e-01,\n",
      "        -1.00456163e-01,  1.77847594e-01,  1.07241869e-01,\n",
      "         2.35000670e-01,  2.64064908e-01,  1.05700284e-01,\n",
      "         1.31527662e-01, -2.52608031e-01, -1.98631465e-01,\n",
      "         1.61497504e-01,  1.61911041e-01,  1.00416780e-01,\n",
      "        -3.95472348e-02,  1.04567379e-01, -2.51618564e-01,\n",
      "        -1.80361509e-01, -2.12128282e-01,  2.23325789e-02,\n",
      "        -1.25411451e-02, -2.32461095e-02, -2.90935040e-01,\n",
      "        -2.52214551e-01, -1.54751644e-01, -1.01714134e-02,\n",
      "        -9.10335630e-02, -1.24426484e-02, -2.69469202e-01,\n",
      "         1.05555087e-01, -1.44848377e-01, -1.89521909e-03,\n",
      "        -6.32092357e-03, -2.03755081e-01,  2.04098225e-01,\n",
      "        -3.02946568e-03,  3.30809951e-02, -1.51011586e-01,\n",
      "         2.73585975e-01,  2.80995011e-01, -8.73527825e-02,\n",
      "        -1.42106026e-01, -1.27482489e-01, -1.47251353e-01,\n",
      "        -1.63166121e-01,  4.60306704e-02, -1.05322376e-01,\n",
      "        -1.66424513e-01,  2.70746529e-01,  1.71020001e-01,\n",
      "         1.86254978e-02, -2.94868171e-01],\n",
      "       [-1.79662466e-01,  1.16737187e-02, -2.87152737e-01,\n",
      "         1.51727855e-01,  1.63379222e-01,  2.52524674e-01,\n",
      "         1.70589387e-02,  2.22698629e-01,  2.78273404e-01,\n",
      "        -6.82032406e-02, -7.45709091e-02, -1.19175151e-01,\n",
      "         1.11476868e-01, -2.35322028e-01,  1.54278636e-01,\n",
      "        -1.00213289e-02,  1.65878534e-01,  1.32102638e-01,\n",
      "         3.07646990e-02, -7.94719160e-02, -2.27643013e-01,\n",
      "        -2.40367457e-01,  2.04707384e-02,  2.52413869e-01,\n",
      "        -2.83453315e-01, -2.42084533e-01,  1.20284230e-01,\n",
      "        -1.77996576e-01, -2.58726537e-01,  3.80419195e-02,\n",
      "        -1.38393670e-01,  2.54655480e-01, -1.89577132e-01,\n",
      "        -8.99174660e-02,  2.22716749e-01,  2.01539040e-01,\n",
      "         1.33324683e-01, -2.56386995e-01, -4.50628549e-02,\n",
      "         1.37931973e-01, -1.74535841e-01, -1.22773647e-02,\n",
      "        -2.85405636e-01, -2.10922748e-01,  9.75812078e-02,\n",
      "        -5.25278598e-02,  1.74593925e-02,  1.24316275e-01,\n",
      "        -2.40753710e-01,  1.51518017e-01, -2.64113098e-01,\n",
      "        -2.52753496e-04, -2.14954644e-01, -2.09243298e-02,\n",
      "        -2.21044183e-01, -1.58533961e-01],\n",
      "       [ 6.18213713e-02, -1.93487197e-01,  2.64204860e-01,\n",
      "         3.13423276e-02,  8.51995945e-02,  2.89554000e-01,\n",
      "         7.94676244e-02, -6.45456463e-02,  3.00058722e-03,\n",
      "         1.77711487e-01, -2.74952710e-01, -1.18874311e-02,\n",
      "        -1.85321659e-01, -9.95352268e-02,  2.42089868e-01,\n",
      "         2.11322486e-01,  2.89314628e-01, -9.79721546e-04,\n",
      "        -2.05395877e-01,  1.46079570e-01,  2.30926216e-01,\n",
      "        -1.74072668e-01, -1.18512586e-01,  1.50119692e-01,\n",
      "         2.78160334e-01, -1.64020628e-01, -1.68061525e-01,\n",
      "        -2.77345151e-01,  1.20978355e-01, -7.50046968e-02,\n",
      "        -1.22821331e-02, -8.63184333e-02,  1.36825293e-01,\n",
      "         2.15790868e-01,  1.42816603e-01, -2.19454288e-01,\n",
      "        -2.52181560e-01,  1.80434436e-01,  8.44293237e-02,\n",
      "        -1.57788441e-01, -2.58305192e-01,  1.20189190e-02,\n",
      "         6.98764324e-02, -2.58404553e-01, -5.19814342e-02,\n",
      "        -6.53088838e-02, -2.50124216e-01,  1.55113101e-01,\n",
      "         1.61801487e-01,  2.13617921e-01, -2.13454112e-01,\n",
      "        -8.87832940e-02,  5.80854714e-02, -2.10619271e-02,\n",
      "        -1.27698466e-01, -1.81537807e-01],\n",
      "       [-1.11407414e-01,  1.51051462e-01,  1.53572261e-01,\n",
      "         1.35425776e-01, -2.68748701e-01, -2.87515163e-01,\n",
      "        -4.94621694e-02, -2.91210115e-02,  2.66212344e-01,\n",
      "        -7.11274594e-02, -2.88546115e-01,  1.61898524e-01,\n",
      "         1.02980852e-01, -2.74554491e-01, -2.09358156e-01,\n",
      "         1.54113561e-01,  2.57174551e-01,  1.39698476e-01,\n",
      "        -2.04017460e-02,  1.36276394e-01, -8.13655406e-02,\n",
      "         2.56536603e-01,  1.51063204e-02,  2.61415064e-01,\n",
      "        -2.28314012e-01, -4.64208126e-02, -2.91272312e-01,\n",
      "         3.46747637e-02, -5.82375973e-02, -2.20009387e-02,\n",
      "         1.63769841e-01,  2.14280903e-01,  1.16570592e-01,\n",
      "        -1.16820395e-01, -5.75296134e-02, -1.54512465e-01,\n",
      "        -9.82530564e-02,  8.25163126e-02,  2.92292237e-01,\n",
      "         2.39208937e-01, -7.13294595e-02, -1.04174316e-02,\n",
      "         2.26165473e-01,  9.66298282e-02, -1.99400961e-01,\n",
      "        -4.03743684e-02,  3.97106111e-02, -1.62404791e-01,\n",
      "         1.98683143e-03,  2.24295259e-02,  1.16017431e-01,\n",
      "         2.50800192e-01, -1.12393603e-01, -2.04140544e-02,\n",
      "         2.74587631e-01, -2.38858908e-01],\n",
      "       [-1.77513361e-01, -2.50855684e-01, -2.73258269e-01,\n",
      "         2.21987426e-01,  2.34407306e-01, -1.00345150e-01,\n",
      "        -1.81456745e-01,  1.50594383e-01, -2.86835998e-01,\n",
      "        -2.22370923e-01, -1.07401907e-02,  2.27334857e-01,\n",
      "         2.05278933e-01, -1.30191296e-01,  1.84193462e-01,\n",
      "         1.03073448e-01, -9.95161086e-02, -1.65270865e-01,\n",
      "         1.47676557e-01,  6.76416457e-02,  2.66044021e-01,\n",
      "         3.03554535e-02,  1.86190993e-01,  1.80930912e-01,\n",
      "         2.90815294e-01, -7.82661736e-02, -1.69396281e-01,\n",
      "         1.41303688e-01,  2.46383846e-02,  9.22295451e-02,\n",
      "         2.79769301e-01, -2.02534139e-01, -2.67663896e-01,\n",
      "        -1.08576491e-01, -5.68227619e-02, -8.25148970e-02,\n",
      "        -2.85017908e-01, -2.61017263e-01, -1.06778443e-02,\n",
      "        -1.93258286e-01, -1.93746209e-01, -2.65306234e-03,\n",
      "        -1.52357876e-01, -1.66307256e-01, -1.04624942e-01,\n",
      "         2.22660422e-01, -3.89613807e-02, -9.78956968e-02,\n",
      "        -2.14052618e-01, -8.55127424e-02,  1.11515522e-02,\n",
      "         1.07733876e-01, -8.45636129e-02, -2.13031709e-01,\n",
      "         6.64541721e-02,  2.05060363e-01],\n",
      "       [ 2.35656798e-01,  8.90580416e-02, -2.39838898e-01,\n",
      "         1.82620585e-02,  2.55007327e-01, -2.16841787e-01,\n",
      "        -1.20672241e-01, -9.69621092e-02, -1.43901065e-01,\n",
      "         1.08771175e-01, -2.00083911e-01,  2.28613794e-01,\n",
      "         1.09712213e-01,  1.19421214e-01, -9.59911197e-02,\n",
      "        -2.48113036e-01,  8.27688277e-02,  2.54960001e-01,\n",
      "         2.47133851e-01,  6.93930984e-02, -2.42952242e-01,\n",
      "        -2.11850852e-01,  2.51901269e-01, -3.96999419e-02,\n",
      "         1.18748248e-01,  4.25978005e-02, -2.91645348e-01,\n",
      "         1.36118293e-01,  2.54744589e-02,  2.15478837e-01,\n",
      "        -9.21189487e-02,  2.74957418e-01,  2.40394890e-01,\n",
      "        -1.59909636e-01, -1.75125152e-01,  1.74090952e-01,\n",
      "         1.44648552e-01, -2.28807330e-02, -5.39852232e-02,\n",
      "         1.55238241e-01,  5.95684052e-02, -1.83857679e-01,\n",
      "         7.13430941e-02,  2.58635283e-01, -1.23664677e-01,\n",
      "         1.32416904e-01,  1.13162816e-01,  1.24190837e-01,\n",
      "        -5.17514050e-02,  9.37195420e-02,  2.75874674e-01,\n",
      "         1.02275401e-01, -2.19688267e-01,  1.98961616e-01,\n",
      "         3.87344956e-02,  4.89706695e-02],\n",
      "       [-1.63973093e-01,  1.14592910e-02,  2.93193340e-01,\n",
      "        -2.86701292e-01,  1.90290868e-01, -7.42589533e-02,\n",
      "        -2.09939942e-01,  6.80055320e-02,  2.73867249e-02,\n",
      "         5.73785305e-02, -1.64427489e-01, -7.77480900e-02,\n",
      "         1.87006056e-01,  9.58514214e-03,  2.11195171e-01,\n",
      "         1.38465762e-02, -1.12978265e-01,  2.13258743e-01,\n",
      "         1.29411340e-01,  1.66869283e-01,  1.01223826e-01,\n",
      "        -5.98985702e-02,  2.37113893e-01, -7.37680048e-02,\n",
      "        -1.83173954e-01, -7.05422461e-02,  1.34079218e-01,\n",
      "        -2.75593758e-01,  2.33998895e-01,  6.36868477e-02,\n",
      "        -4.24180925e-02,  1.41333014e-01, -5.78435361e-02,\n",
      "         1.86240643e-01, -4.65733707e-02, -2.68627644e-01,\n",
      "         2.59878457e-01, -7.62176067e-02, -1.59914553e-01,\n",
      "        -2.03746989e-01, -1.39583305e-01,  2.79041529e-01,\n",
      "        -7.05122948e-02, -1.00251719e-01, -4.34236825e-02,\n",
      "         1.48003340e-01, -4.49589491e-02, -1.59399286e-01,\n",
      "        -1.74958944e-01, -2.45602772e-01,  1.85122639e-01,\n",
      "        -2.26306021e-02,  2.89920151e-01, -5.94595224e-02,\n",
      "        -1.34111479e-01, -1.34111062e-01],\n",
      "       [ 1.28967911e-01,  1.89870745e-01,  9.56930220e-02,\n",
      "         4.27708924e-02, -6.44389987e-02, -7.97078013e-02,\n",
      "         2.97693610e-02,  2.37953126e-01,  3.92251611e-02,\n",
      "        -7.21045732e-02,  2.59144187e-01, -1.04291350e-01,\n",
      "        -1.14109263e-01,  2.08617091e-01, -6.44347072e-02,\n",
      "         9.85728204e-02,  5.31006455e-02, -2.63849199e-02,\n",
      "        -1.81722581e-01, -1.50992602e-01,  3.68736386e-02,\n",
      "         1.08974904e-01, -2.56030679e-01,  1.13630354e-01,\n",
      "        -2.05164984e-01, -1.45809099e-01,  1.67670339e-01,\n",
      "        -2.46749178e-01, -1.32848784e-01, -2.41130203e-01,\n",
      "        -2.59478122e-01, -5.42452931e-03, -1.36153787e-01,\n",
      "        -2.80928850e-01, -2.20210776e-01,  1.27827823e-02,\n",
      "        -1.18586555e-01, -1.52866468e-01, -1.13713652e-01,\n",
      "         1.11288607e-01, -1.37702703e-01,  1.92352653e-01,\n",
      "         3.31381559e-02,  2.71383405e-01,  1.47444636e-01,\n",
      "         1.81589484e-01, -1.38622090e-01,  2.33258963e-01,\n",
      "        -2.11420715e-01,  9.99568403e-02, -7.56719559e-02,\n",
      "         1.20828599e-01, -8.55879635e-02, -1.79580748e-02,\n",
      "         2.67518580e-01, -2.15072274e-01],\n",
      "       [-1.78228512e-01,  1.26789838e-01,  1.24385804e-01,\n",
      "         1.36467844e-01,  6.01107478e-02, -4.19197679e-02,\n",
      "        -2.80643463e-01, -1.75155789e-01,  2.92905092e-01,\n",
      "        -1.20591387e-01, -9.51475203e-02, -4.10136580e-03,\n",
      "        -1.58030570e-01, -1.46421045e-01, -1.50885671e-01,\n",
      "         1.58505827e-01, -2.43784949e-01, -2.04018027e-01,\n",
      "         1.17780298e-01,  8.19420516e-02,  1.02450103e-01,\n",
      "        -2.00333357e-01,  1.89522505e-02,  2.47594714e-03,\n",
      "        -9.23970789e-02,  1.99678451e-01,  1.43503845e-01,\n",
      "         2.65457273e-01, -2.15506688e-01,  7.65945017e-02,\n",
      "         7.85700381e-02, -2.28165746e-01, -4.28741574e-02,\n",
      "        -4.07159925e-02, -2.04584301e-02, -2.45942280e-01,\n",
      "         2.16612041e-01, -5.55454493e-02,  2.58771420e-01,\n",
      "         2.10102201e-01, -4.95250225e-02, -1.88630745e-01,\n",
      "         5.62077165e-02, -1.72737777e-01,  2.40271270e-01,\n",
      "        -2.53904283e-01,  9.27200019e-02,  1.23019487e-01,\n",
      "        -1.26701742e-01, -2.90090024e-01, -1.88228190e-02,\n",
      "         9.21800733e-03,  2.21116960e-01, -2.72941172e-01,\n",
      "        -2.23417222e-01,  2.45898962e-01],\n",
      "       [ 1.40562683e-01, -2.64244288e-01,  1.54721737e-03,\n",
      "         2.51401663e-01, -2.02779293e-01, -3.42654884e-02,\n",
      "         1.65228397e-01,  1.43133044e-01,  7.95705616e-02,\n",
      "         3.21626663e-02,  2.51960039e-01,  1.92283899e-01,\n",
      "        -2.32099921e-01,  1.01300120e-01,  2.12528408e-01,\n",
      "         4.93634641e-02, -2.39461571e-01,  2.03845352e-01,\n",
      "        -2.04634950e-01,  1.95204347e-01, -2.93963104e-01,\n",
      "         2.08384693e-01,  1.98380262e-01,  1.10994995e-01,\n",
      "        -2.00388908e-01,  1.24575615e-01, -2.53841698e-01,\n",
      "        -2.03243807e-01,  8.04903805e-02, -1.14972830e-01,\n",
      "         1.14377618e-01, -2.22159505e-01, -3.29779983e-02,\n",
      "        -6.96676373e-02, -1.81464612e-01,  1.68027282e-02,\n",
      "         2.20326364e-01, -2.38453865e-01,  1.14565194e-01,\n",
      "        -6.23284876e-02, -1.22163296e-01,  2.30011344e-01,\n",
      "         1.72898173e-02, -9.37152505e-02, -2.80858308e-01,\n",
      "        -1.52099714e-01,  3.75526547e-02, -6.04629219e-02,\n",
      "        -5.83217591e-02,  1.66090995e-01,  2.44414270e-01,\n",
      "         5.88276684e-02, -2.12572128e-01, -3.70077193e-02,\n",
      "        -2.37749130e-01, -1.98907852e-02]], dtype=float32), array([0., 0., 0., 0., 0., 0., 0., 0., 0., 0., 0., 0., 0., 0., 0., 0., 0.,\n",
      "       0., 0., 0., 0., 0., 0., 0., 0., 0., 0., 0., 0., 0., 0., 0., 0., 0.,\n",
      "       0., 0., 0., 0., 0., 0., 0., 0., 0., 0., 0., 0., 0., 0., 0., 0., 0.,\n",
      "       0., 0., 0., 0., 0.], dtype=float32)]\n"
     ]
    }
   ],
   "source": [
    "# inputs  = keras.Input(shape=(3,))\n",
    "# x       = tf.keras.layers.Dense(4, activation=tf.nn.relu)(inputs)\n",
    "# outputs = keras.layers.Dense(5, activation=tf.nn.softmax)(x)\n",
    "# model   = tf.keras.Model(inputs=inputs, outputs=outputs)\n",
    "\n",
    "from keras import Model\n",
    "hidden_layer1_model = Model(inputs=model.input, outputs=model.layers[0].output)\n",
    "output = hidden_layer1_model(X_train.values)\n",
    "\n",
    "# -4.96479869e-02  -->  -9.99999999e-02\n",
    "# new_weight = [-9.99999999e-02, -1.31228065e+00,  1.99921787e-01,\n",
    "#         -4.56847548e-01, -5.63214898e-01, -1.75537765e-01,\n",
    "#         -5.14393985e-01,  9.51746013e-03, -8.53538454e-01,\n",
    "#         -9.48194712e-02, -1.03328049e+00, -2.53696948e-01,\n",
    "#          1.68627203e-01,  2.80268133e-01, -7.88949192e-01,\n",
    "#         -6.96348369e-01, -8.22624981e-01,  2.62601018e-01,\n",
    "#          1.22495711e-01,  1.49118334e-01, -2.28315070e-01,\n",
    "#         -6.61183774e-01,  1.23996437e-01, -5.28111219e-01,\n",
    "#          9.61591303e-02, -6.49019361e-01, -4.09550488e-01,\n",
    "#          1.97757840e-01, -4.72919047e-01, -9.83721018e-01,\n",
    "#         -6.78088129e-01, -1.39518529e-01,  1.25122607e-01,\n",
    "#         -9.58911598e-01, -7.17370808e-01, -5.39645433e-01,\n",
    "#         -1.56555402e+00,  2.88044035e-01,  2.30250537e-01,\n",
    "#          9.26579773e-01, -2.65088588e-01,  2.56911099e-01,\n",
    "#          1.12216711e-01, -7.41300210e-02, -7.68341005e-01,\n",
    "#         -9.87456799e-01, -6.94400907e-01, -4.39792722e-01,\n",
    "#          2.92690217e-01, -6.29654169e-01, -2.12101564e-01,\n",
    "#          1.56603634e-01, -6.53494477e-01, -3.22431624e-02,\n",
    "#         -1.04178464e+00, -8.02286148e-01]\n",
    "# model.set_weights(new_weight)\n",
    "\n",
    "\n",
    "print(f\"input : {X_train[:1]}\")\n",
    "print(f\"output : {output[:1]}\")\n",
    "\n",
    "print(f\"hidden_layer1_model weight : {np.array(hidden_layer1_model.get_weights()[0]).shape}\")\n",
    "print(f\"hidden_layer1_model weight : {hidden_layer1_model.get_weights()[:2]}\")"
   ]
  },
  {
   "cell_type": "code",
   "execution_count": 18,
   "id": "1bd43e45-a0b4-47db-a9a2-0f1eb30c63ac",
   "metadata": {
    "tags": []
   },
   "outputs": [
    {
     "data": {
      "image/png": "[encoded data removed]",
      "text/plain": [
       "<Figure size 300x200 with 1 Axes>"
      ]
     },
     "metadata": {},
     "output_type": "display_data"
    }
   ],
   "source": [
    "pd.DataFrame({\"col\":model.get_weights()[0][0]}).hist(figsize=(3,2))\n",
    "plt.show()"
   ]
  },
  {
   "cell_type": "code",
   "execution_count": 19,
   "id": "3c748e16-fb22-44bb-9418-18db2b3dc555",
   "metadata": {
    "tags": []
   },
   "outputs": [
    {
     "name": "stdout",
     "output_type": "stream",
     "text": [
      "Downloading data from https://storage.googleapis.com/tensorflow/tf-keras-datasets/mnist.npz\n",
      "11490434/11490434 [==============================] - 1s 0us/step\n"
     ]
    },
    {
     "data": {
      "image/png": "[encoded data removed]",
      "text/plain": [
       "<Figure size 640x480 with 1 Axes>"
      ]
     },
     "metadata": {},
     "output_type": "display_data"
    }
   ],
   "source": [
    "mnist = tf.keras.datasets.mnist\n",
    "(x_train, y_train), (x_test, y_test) = mnist.load_data()\n",
    "x_train, x_test = x_train/255.0, x_test/255.0\n",
    "\n",
    "# tf.keras.initializers.RandomNormal 사용하기\n",
    "initializer1 = tf.keras.initializers.RandomNormal(mean=2.0, stddev=0.05, seed=None)\n",
    "initializer2 = tf.keras.initializers.RandomNormal(mean=-2.0, stddev=0.01, seed=None)\n",
    "\n",
    "model = tf.keras.models.Sequential([\n",
    "  tf.keras.layers.Flatten(input_shape=(28, 28)),\n",
    "  tf.keras.layers.Dense(512, activation=tf.nn.relu, use_bias=False, kernel_initializer=initializer1),\n",
    "  tf.keras.layers.Dense(10, activation=tf.nn.softmax, use_bias=False, kernel_initializer=initializer2)\n",
    "])\n",
    "\n",
    "weights = model.get_weights()\n",
    "# print(weights)\n",
    "\n",
    "plt.hist(weights[0], bins=100, alpha=0.7, histtype='step')\n",
    "plt.hist(weights[1], bins=100, alpha=0.7, histtype='step')\n",
    "plt.show()"
   ]
  },
  {
   "cell_type": "markdown",
   "id": "c3da1b2a-0eb3-434f-91a8-c3dec1fcb10d",
   "metadata": {},
   "source": [
    "# tf.keras.initializers.RandomNormal 사용하기\n",
    "* mean=2.0  , stddev=0.05   ,  mean=-2.0, stddev=0.01\n",
    "* mean=-0.05, stddev=0.05 ,  mean=-0.1, stddev=0.1"
   ]
  },
  {
   "cell_type": "code",
   "execution_count": 20,
   "id": "ceba42cd-65e1-44ab-8e80-852697e01c32",
   "metadata": {
    "tags": []
   },
   "outputs": [
    {
     "data": {
      "image/png": "[encoded data removed]",
      "text/plain": [
       "<Figure size 640x480 with 1 Axes>"
      ]
     },
     "metadata": {},
     "output_type": "display_data"
    }
   ],
   "source": [
    "mnist = tf.keras.datasets.mnist\n",
    "(x_train, y_train), (x_test, y_test) = mnist.load_data()\n",
    "x_train, x_test = x_train/255.0, x_test/255.0\n",
    "\n",
    "# tf.keras.initializers.RandomNormal 사용하기\n",
    "initializer1 = tf.keras.initializers.RandomNormal(mean=-0.05, stddev=0.05, seed=None)\n",
    "initializer2 = tf.keras.initializers.RandomNormal(mean=-0.1, stddev=0.1, seed=None)\n",
    "\n",
    "model = tf.keras.models.Sequential([\n",
    "  tf.keras.layers.Flatten(input_shape=(28, 28)),\n",
    "  tf.keras.layers.Dense(512, activation=tf.nn.relu, use_bias=False, kernel_initializer=initializer1),\n",
    "  tf.keras.layers.Dense(10, activation=tf.nn.softmax, use_bias=False, kernel_initializer=initializer2)\n",
    "])\n",
    "\n",
    "weights = model.get_weights()\n",
    "# print(weights)\n",
    "\n",
    "plt.hist(weights[0], bins=100, alpha=0.7, histtype='step')\n",
    "plt.hist(weights[1], bins=100, alpha=0.7, histtype='step')\n",
    "plt.show()"
   ]
  },
  {
   "cell_type": "code",
   "execution_count": 21,
   "id": "e21cfef5-8ba0-49cb-8622-425ee2a8f3eb",
   "metadata": {},
   "outputs": [],
   "source": [
    "model = Sequential()\n",
    "model.add(Dense(units=56, input_dim=len(X_train.columns), activation='relu'\n",
    "               , kernel_initializer='glorot_normal'  #--  Xavier:1/root(N)\n",
    "               ))\n",
    "model.add(Dense(units=24 , activation='relu'))\n",
    "model.add(Dense(units=26 , activation='relu', kernel_initializer='glorot_normal'))\n",
    "model.add(Dense(units=12 , activation='relu'))\n",
    "model.add(Dense(units=8  , activation='relu'))\n",
    "model.add(Dense(units=4  , activation='relu'))\n",
    "model.add(Dense(units=1  ))  #-----------------회귀 : y^ = wx+b\n",
    "model.compile(loss=\"mean_squared_error\", optimizer=\"adam\", metrics=\"mse\")\n"
   ]
  },
  {
   "cell_type": "markdown",
   "id": "1adb218d-f4aa-40da-9194-bc4226992fc7",
   "metadata": {
    "tags": []
   },
   "source": [
    "### 모델/가중치 저장&불러오기\n",
    "* fit()이후에 가중치가 모두 보정된 상태의 모델을 저장해서 배포!!!\n",
    "* save() : 모델구조 + 보정된weights\n",
    "    * 바로사용 가능\n",
    "    * 저장 용량이 크다\n",
    "* save_weights() : 보정된weights\n",
    "    * 저장 용량이 적다\n",
    "    * 모델 구조를 알아야 사용 가능"
   ]
  },
  {
   "cell_type": "markdown",
   "id": "789db784-55db-4c51-89e6-6d6af92737a9",
   "metadata": {
    "tags": []
   },
   "source": [
    "#### 모델\n",
    "* model.save(\"aaa.h5\")\n",
    "* re_model = load_model(\"aaa.h5\")"
   ]
  },
  {
   "cell_type": "code",
   "execution_count": 22,
   "id": "68386678-e93c-420a-b95c-ca24993e4424",
   "metadata": {
    "tags": []
   },
   "outputs": [
    {
     "data": {
      "text/plain": [
       "((455, 13), (51, 13), (455,), (51,))"
      ]
     },
     "execution_count": 22,
     "metadata": {},
     "output_type": "execute_result"
    }
   ],
   "source": [
    "y = df['MEDV']\n",
    "X = df.drop(['MEDV'], axis=1)\n",
    "X_train, X_test, y_train, y_test = train_test_split(X,y, test_size=0.1, random_state=1234)\n",
    "X_train.shape, X_test.shape, y_train.shape, y_test.shape"
   ]
  },
  {
   "cell_type": "code",
   "execution_count": 23,
   "id": "1970a0c1-dfd7-4141-b559-9b4594accf47",
   "metadata": {},
   "outputs": [],
   "source": [
    "model = Sequential()\n",
    "model.add(Dense(units=56, input_dim=len(X_train.columns), activation='relu'\n",
    "               , kernel_initializer='glorot_normal'  #--  Xavier:1/root(N)\n",
    "               ))\n",
    "model.add(Dense(units=24 , activation='relu'))\n",
    "model.add(Dense(units=26 , activation='relu', kernel_initializer='glorot_normal'))\n",
    "model.add(Dense(units=12 , activation='relu'))\n",
    "model.add(Dense(units=8  , activation='relu'))\n",
    "model.add(Dense(units=4  , activation='relu'))\n",
    "model.add(Dense(units=1  ))  #-----------------회귀 : y^ = wx+b\n",
    "model.compile(loss=\"mean_squared_error\", optimizer=\"adam\", metrics=\"mse\")"
   ]
  },
  {
   "cell_type": "code",
   "execution_count": 24,
   "id": "a5c76c62-1a5e-4e49-9de0-18f7eaf8ad54",
   "metadata": {
    "tags": []
   },
   "outputs": [
    {
     "name": "stdout",
     "output_type": "stream",
     "text": [
      "15/15 [==============================] - 1s 1ms/step - loss: 487.7216 - mse: 487.7216\n",
      "2/2 [==============================] - 0s 3ms/step - loss: 236.2238 - mse: 236.2238\n"
     ]
    }
   ],
   "source": [
    "from keras.models import load_model\n",
    "model.fit(X_train, y_train)\n",
    "model.evaluate(X_test, y_test) \n",
    "model.save(\"./lec02_my_model.h5\")\n",
    "model.save_weights(\"./lec02_my_weight\")"
   ]
  },
  {
   "cell_type": "code",
   "execution_count": 25,
   "id": "e61f27c7-1592-4afc-ad37-bf366ed0ab01",
   "metadata": {
    "tags": []
   },
   "outputs": [
    {
     "name": "stdout",
     "output_type": "stream",
     "text": [
      "2/2 [==============================] - 0s 3ms/step - loss: 236.2238 - mse: 236.2238\n"
     ]
    },
    {
     "data": {
      "text/plain": [
       "[236.22384643554688, 236.22384643554688]"
      ]
     },
     "execution_count": 25,
     "metadata": {},
     "output_type": "execute_result"
    }
   ],
   "source": [
    "re_model = load_model(\"./lec02_my_model.h5\")\n",
    "re_model.evaluate(X_test, y_test) "
   ]
  },
  {
   "cell_type": "markdown",
   "id": "182606fa-afb8-4f06-9b15-9d8390b37018",
   "metadata": {},
   "source": [
    "#### 가중치\n",
    "* model.save_weights(\"my_weight\")\n",
    "* re_weights = load_weights(\"my_weight\")\n",
    "* model.set_weights(re_weights)"
   ]
  },
  {
   "cell_type": "code",
   "execution_count": 26,
   "id": "0d30ec56-80cb-4951-a443-efae17a4ba88",
   "metadata": {
    "tags": []
   },
   "outputs": [
    {
     "name": "stdout",
     "output_type": "stream",
     "text": [
      "2/2 [==============================] - 0s 3ms/step - loss: 236.2238 - mse: 236.2238\n"
     ]
    },
    {
     "data": {
      "text/plain": [
       "[236.22384643554688, 236.22384643554688]"
      ]
     },
     "execution_count": 26,
     "metadata": {},
     "output_type": "execute_result"
    }
   ],
   "source": [
    "model = Sequential()\n",
    "model.add(Dense(units=56, input_dim=len(X_train.columns), activation='relu'\n",
    "               , kernel_initializer='glorot_normal'  #--  Xavier:1/root(N)\n",
    "               ))\n",
    "model.add(Dense(units=24 , activation='relu'))\n",
    "model.add(Dense(units=26 , activation='relu', kernel_initializer='glorot_normal'))\n",
    "model.add(Dense(units=12 , activation='relu'))\n",
    "model.add(Dense(units=8  , activation='relu'))\n",
    "model.add(Dense(units=4  , activation='relu'))\n",
    "model.add(Dense(units=1  ))  #-----------------회귀 : y^ = wx+b\n",
    "model.compile(loss=\"mean_squared_error\", optimizer=\"adam\", metrics=\"mse\")\n",
    "\n",
    "model.load_weights(\"./lec02_my_weight\")\n",
    "model.evaluate(X_test, y_test) "
   ]
  },
  {
   "cell_type": "markdown",
   "id": "b171c2fc-71a2-4756-bbc4-0430c3d7f986",
   "metadata": {},
   "source": [
    "## fit()\n",
    "* 모델학습 : 총 문항 : 100문항 <br><br>\n",
    "<pre>\n",
    "Model.fit(\n",
    "    <font color=blue><b>x=None,              : 문제지 100  \n",
    "    y=None,              : 답안지 100    \n",
    "    batch_size=20,       : 역전파횟수 5 (100문제를 20문제씩 풀고 답을 맞춘 후 w 보정)   \n",
    "    epochs=3,            : 학습 박복 횟수 300  \n",
    "    steps_per_epoch=None,: 샘플수/배치수 = 100문항/20배치 (최대한 답안맞출수 있는 횟수)  </b></font>\n",
    "    initial_epoch=0,     : 반복 시작 번호  \n",
    "      \n",
    "    <font color=blue><b>validation_split=0.2 : 100문항 중 20문항은 테스트에 사용  \n",
    "    validation_data=(X_test, y_test),: train_test_split에서 자른 test데이터셋 직접 넣기  \n",
    "    validation_batch_size=None,  (=batch_size)  \n",
    "    validation_steps=None,       (=steps_per_epoch)</b></font>  \n",
    "    validation_freq=1,  \n",
    "      \n",
    "    verbose=\"auto\",        \n",
    "    callbacks=None,      : ***  \n",
    "    shuffle=True,  \n",
    "    \n",
    "    class_weight=None,  \n",
    "    sample_weight=None,  \n",
    "    max_queue_size=10,  \n",
    "    workers=1,  \n",
    "    use_multiprocessing=False,  \n",
    ")"
   ]
  },
  {
   "cell_type": "code",
   "execution_count": 27,
   "id": "9a477130-4886-4597-9238-cf82a3ccbcad",
   "metadata": {
    "tags": []
   },
   "outputs": [
    {
     "data": {
      "text/plain": [
       "((455, 13), (51, 13), (455,), (51,))"
      ]
     },
     "execution_count": 27,
     "metadata": {},
     "output_type": "execute_result"
    }
   ],
   "source": [
    "y = df['MEDV']\n",
    "X = df.drop(['MEDV'], axis=1)\n",
    "X_train, X_test, y_train, y_test = train_test_split(X,y, test_size=0.1, random_state=1234)\n",
    "X_train.shape, X_test.shape, y_train.shape, y_test.shape"
   ]
  },
  {
   "cell_type": "markdown",
   "id": "59a24c8d-1407-4ee8-b11a-1e318bb5c161",
   "metadata": {},
   "source": [
    "### train만 넣은 경우 \n",
    "    * batch_size=50(약 9회 : w 보정 횟수가 적었다)\n",
    "    * epochs=10 (반복 학습이 다소 적은 경우)\n",
    "\n",
    "* X, y 통째로 넣고  train 점수만 본 경우\n",
    "* 오버피팅 확인 불가"
   ]
  },
  {
   "cell_type": "code",
   "execution_count": 28,
   "id": "cecb815e-c166-4a39-96f4-d835c50f9f01",
   "metadata": {
    "tags": []
   },
   "outputs": [
    {
     "name": "stdout",
     "output_type": "stream",
     "text": [
      "Epoch 1/10\n",
      "9/9 [==============================] - 0s 2ms/step - loss: 235.9869 - mse: 235.9869\n",
      "Epoch 2/10\n",
      "9/9 [==============================] - 0s 2ms/step - loss: 105.7705 - mse: 105.7705\n",
      "Epoch 3/10\n",
      "9/9 [==============================] - 0s 2ms/step - loss: 115.1541 - mse: 115.1541\n",
      "Epoch 4/10\n",
      "9/9 [==============================] - 0s 1ms/step - loss: 84.6714 - mse: 84.6714\n",
      "Epoch 5/10\n",
      "9/9 [==============================] - 0s 1ms/step - loss: 73.1798 - mse: 73.1798\n",
      "Epoch 6/10\n",
      "9/9 [==============================] - 0s 1ms/step - loss: 68.7034 - mse: 68.7034\n",
      "Epoch 7/10\n",
      "9/9 [==============================] - 0s 1ms/step - loss: 67.5815 - mse: 67.5815\n",
      "Epoch 8/10\n",
      "9/9 [==============================] - 0s 1ms/step - loss: 66.9875 - mse: 66.9875\n",
      "Epoch 9/10\n",
      "9/9 [==============================] - 0s 3ms/step - loss: 66.5647 - mse: 66.5647\n",
      "Epoch 10/10\n",
      "9/9 [==============================] - 0s 1ms/step - loss: 53.0816 - mse: 53.0816\n",
      "2/2 [==============================] - 0s 3ms/step - loss: 42.6895 - mse: 42.6895\n",
      "[42.689476013183594, 42.689476013183594]\n"
     ]
    }
   ],
   "source": [
    "model = load_model(\"./lec02_my_model.h5\")\n",
    "model.fit(x=X,y=y, batch_size=50,epochs=10,steps_per_epoch=455/50)\n",
    "print(model.evaluate(X_test, y_test) )"
   ]
  },
  {
   "cell_type": "markdown",
   "id": "7c23ddab-957c-4faa-a113-2eba8e4ea95f",
   "metadata": {},
   "source": [
    "### epochs=10, batch_size=50\n",
    "    * batch_size=50(약 9회 : w 보정 횟수가 적었다)\n",
    "    * epochs=10 (반복 학습이 다소 적은 경우)\n",
    "\n",
    "* X, y 통째로 넣고  test_size = 0.2로 잡고 test 데이터로 검증\n",
    "* <b>오버피팅 확인 결과 : 어느정도 일반화 학습</b>"
   ]
  },
  {
   "cell_type": "code",
   "execution_count": 29,
   "id": "b156fc21-6c3c-4470-bb9f-c5c7e9099f3e",
   "metadata": {
    "tags": []
   },
   "outputs": [
    {
     "name": "stdout",
     "output_type": "stream",
     "text": [
      "Epoch 1/10\n",
      "1/9 [==>...........................] - ETA: 3s - loss: 329.1345 - mse: 329.1345WARNING:tensorflow:5 out of the last 9 calls to <function Model.make_test_function.<locals>.test_function at 0x000001EC3AE82F70> triggered tf.function retracing. Tracing is expensive and the excessive number of tracings could be due to (1) creating @tf.function repeatedly in a loop, (2) passing tensors with different shapes, (3) passing Python objects instead of tensors. For (1), please define your @tf.function outside of the loop. For (2), @tf.function has reduce_retracing=True option that can avoid unnecessary retracing. For (3), please refer to https://www.tensorflow.org/guide/function#controlling_retracing and https://www.tensorflow.org/api_docs/python/tf/function for  more details.\n",
      "9/9 [==============================] - 1s 16ms/step - loss: 288.2088 - mse: 288.2088 - val_loss: 24.2380 - val_mse: 24.2380\n",
      "Epoch 2/10\n",
      "9/9 [==============================] - 0s 4ms/step - loss: 132.0676 - mse: 132.0676 - val_loss: 147.2233 - val_mse: 147.2233\n",
      "Epoch 3/10\n",
      "9/9 [==============================] - 0s 4ms/step - loss: 108.2878 - mse: 108.2878 - val_loss: 132.3068 - val_mse: 132.3068\n",
      "Epoch 4/10\n",
      "9/9 [==============================] - 0s 4ms/step - loss: 96.2762 - mse: 96.2762 - val_loss: 44.6981 - val_mse: 44.6981\n",
      "Epoch 5/10\n",
      "9/9 [==============================] - 0s 5ms/step - loss: 92.7666 - mse: 92.7666 - val_loss: 40.0452 - val_mse: 40.0452\n",
      "Epoch 6/10\n",
      "9/9 [==============================] - 0s 5ms/step - loss: 79.1430 - mse: 79.1430 - val_loss: 57.4838 - val_mse: 57.4838\n",
      "Epoch 7/10\n",
      "9/9 [==============================] - 0s 4ms/step - loss: 83.7379 - mse: 83.7379 - val_loss: 46.7257 - val_mse: 46.7257\n",
      "Epoch 8/10\n",
      "9/9 [==============================] - 0s 4ms/step - loss: 79.7101 - mse: 79.7101 - val_loss: 30.9632 - val_mse: 30.9632\n",
      "Epoch 9/10\n",
      "9/9 [==============================] - 0s 4ms/step - loss: 76.3685 - mse: 76.3685 - val_loss: 25.9040 - val_mse: 25.9040\n",
      "Epoch 10/10\n",
      "WARNING:tensorflow:Your input ran out of data; interrupting training. Make sure that your dataset or generator can generate at least `steps_per_epoch * epochs` batches (in this case, 91.0 batches). You may need to use the repeat() function when building your dataset.\n",
      "9/9 [==============================] - 1s 72ms/step - loss: 0.0000e+00 - mse: 0.0000e+00 - val_loss: 25.9040 - val_mse: 25.9040\n",
      "2/2 [==============================] - 0s 4ms/step - loss: 51.5839 - mse: 51.5839\n",
      "[51.5838508605957, 51.5838508605957]\n"
     ]
    }
   ],
   "source": [
    "# X_train, X_test, y_train, y_test = train_test_split(X,y, test_size=0.1, random_state=1234)\n",
    "# model.fit(x=X_train,y=y_train\n",
    "#           ,validation_data=(X_test, y_test) \n",
    "#           , batch_size=50,epochs=10,steps_per_epoch=455/50)\n",
    "\n",
    "train_test_split(X,y , test_size = 0.2, random_state=1234)\n",
    "model = load_model(\"./lec02_my_model.h5\")\n",
    "model.fit(x=X,y=y,validation_split=0.2 , batch_size=50,epochs=10,steps_per_epoch=455/50)\n",
    "print(model.evaluate(X_test, y_test) )"
   ]
  },
  {
   "cell_type": "markdown",
   "id": "f61fe920-5411-4ace-8bb8-eeff2b4fd0fe",
   "metadata": {},
   "source": [
    "### epochs=50, batch_size=5\n",
    "    * batch_size=5(약 90회 : w 보정 횟수가 10배 늘었다)\n",
    "    * epochs=50 (반복 학습이 5배 늘었다)\n",
    "\n",
    "* 오버피팅 발생 우려\n",
    "    * batch_size=5 (50보다 작다 == 자주 답안을 체크한다 == w보정이 빈번히 일어난다 == loss작아진다)\n",
    "    * epochs=50 (10보다 크다 == 1문제를 5배 더 학습했다)"
   ]
  },
  {
   "cell_type": "code",
   "execution_count": 30,
   "id": "bb47ce32-40d1-4e27-867f-607279ebbf9f",
   "metadata": {
    "tags": []
   },
   "outputs": [
    {
     "name": "stdout",
     "output_type": "stream",
     "text": [
      "Epoch 1/50\n",
      "91/91 [==============================] - 1s 2ms/step - loss: 117.8195 - mse: 117.8195 - val_loss: 47.0796 - val_mse: 47.0796\n",
      "Epoch 2/50\n",
      "91/91 [==============================] - 0s 1ms/step - loss: 86.5490 - mse: 86.5490 - val_loss: 30.7655 - val_mse: 30.7655\n",
      "Epoch 3/50\n",
      "91/91 [==============================] - 0s 1ms/step - loss: 65.6374 - mse: 65.6374 - val_loss: 19.3533 - val_mse: 19.3533\n",
      "Epoch 4/50\n",
      "91/91 [==============================] - 0s 2ms/step - loss: 69.9539 - mse: 69.9539 - val_loss: 22.7375 - val_mse: 22.7375\n",
      "Epoch 5/50\n",
      "91/91 [==============================] - 0s 1ms/step - loss: 67.5770 - mse: 67.5770 - val_loss: 28.3066 - val_mse: 28.3066\n",
      "Epoch 6/50\n",
      "91/91 [==============================] - 0s 1ms/step - loss: 64.7574 - mse: 64.7574 - val_loss: 30.5260 - val_mse: 30.5260\n",
      "Epoch 7/50\n",
      "91/91 [==============================] - 0s 1ms/step - loss: 59.8882 - mse: 59.8882 - val_loss: 33.7662 - val_mse: 33.7662\n",
      "Epoch 8/50\n",
      "91/91 [==============================] - 0s 2ms/step - loss: 64.8505 - mse: 64.8505 - val_loss: 38.0480 - val_mse: 38.0480\n",
      "Epoch 9/50\n",
      "91/91 [==============================] - 0s 1ms/step - loss: 56.0310 - mse: 56.0310 - val_loss: 39.5497 - val_mse: 39.5497\n",
      "Epoch 10/50\n",
      "91/91 [==============================] - 0s 1ms/step - loss: 57.3726 - mse: 57.3726 - val_loss: 47.6034 - val_mse: 47.6034\n",
      "Epoch 11/50\n",
      "91/91 [==============================] - 0s 1ms/step - loss: 54.1765 - mse: 54.1765 - val_loss: 57.1236 - val_mse: 57.1236\n",
      "Epoch 12/50\n",
      "91/91 [==============================] - 0s 1ms/step - loss: 46.8691 - mse: 46.8691 - val_loss: 42.1668 - val_mse: 42.1668\n",
      "Epoch 13/50\n",
      "91/91 [==============================] - 0s 1ms/step - loss: 51.9312 - mse: 51.9312 - val_loss: 66.2920 - val_mse: 66.2920\n",
      "Epoch 14/50\n",
      "91/91 [==============================] - 0s 1ms/step - loss: 39.6604 - mse: 39.6604 - val_loss: 127.0061 - val_mse: 127.0061\n",
      "Epoch 15/50\n",
      "91/91 [==============================] - 0s 1ms/step - loss: 46.4894 - mse: 46.4894 - val_loss: 48.4402 - val_mse: 48.4402\n",
      "Epoch 16/50\n",
      "91/91 [==============================] - 0s 1ms/step - loss: 44.3718 - mse: 44.3718 - val_loss: 124.6036 - val_mse: 124.6036\n",
      "Epoch 17/50\n",
      "91/91 [==============================] - 0s 1ms/step - loss: 37.4699 - mse: 37.4699 - val_loss: 95.8047 - val_mse: 95.8047\n",
      "Epoch 18/50\n",
      "91/91 [==============================] - 0s 1ms/step - loss: 31.1687 - mse: 31.1687 - val_loss: 126.6939 - val_mse: 126.6939\n",
      "Epoch 19/50\n",
      "91/91 [==============================] - 0s 1ms/step - loss: 34.8615 - mse: 34.8615 - val_loss: 144.2283 - val_mse: 144.2283\n",
      "Epoch 20/50\n",
      "91/91 [==============================] - 0s 1ms/step - loss: 30.6220 - mse: 30.6220 - val_loss: 82.8592 - val_mse: 82.8592\n",
      "Epoch 21/50\n",
      "91/91 [==============================] - 0s 1ms/step - loss: 27.3863 - mse: 27.3863 - val_loss: 80.6589 - val_mse: 80.6589\n",
      "Epoch 22/50\n",
      "91/91 [==============================] - 0s 1ms/step - loss: 29.8907 - mse: 29.8907 - val_loss: 94.4568 - val_mse: 94.4568\n",
      "Epoch 23/50\n",
      "91/91 [==============================] - 0s 1ms/step - loss: 25.5130 - mse: 25.5130 - val_loss: 44.3409 - val_mse: 44.3409\n",
      "Epoch 24/50\n",
      "91/91 [==============================] - 0s 1ms/step - loss: 29.2486 - mse: 29.2486 - val_loss: 71.6977 - val_mse: 71.6977\n",
      "Epoch 25/50\n",
      "91/91 [==============================] - 0s 1ms/step - loss: 24.4456 - mse: 24.4456 - val_loss: 42.4523 - val_mse: 42.4523\n",
      "Epoch 26/50\n",
      "91/91 [==============================] - 0s 1ms/step - loss: 23.1242 - mse: 23.1242 - val_loss: 56.6104 - val_mse: 56.6104\n",
      "Epoch 27/50\n",
      "91/91 [==============================] - 0s 1ms/step - loss: 29.5511 - mse: 29.5511 - val_loss: 46.6408 - val_mse: 46.6408\n",
      "Epoch 28/50\n",
      "91/91 [==============================] - 0s 1ms/step - loss: 24.4504 - mse: 24.4504 - val_loss: 62.7144 - val_mse: 62.7144\n",
      "Epoch 29/50\n",
      "91/91 [==============================] - 0s 1ms/step - loss: 25.2239 - mse: 25.2239 - val_loss: 103.8741 - val_mse: 103.8741\n",
      "Epoch 30/50\n",
      "91/91 [==============================] - 0s 1ms/step - loss: 23.4454 - mse: 23.4454 - val_loss: 53.7783 - val_mse: 53.7783\n",
      "Epoch 31/50\n",
      "91/91 [==============================] - 0s 1ms/step - loss: 20.7483 - mse: 20.7483 - val_loss: 56.6525 - val_mse: 56.6525\n",
      "Epoch 32/50\n",
      "91/91 [==============================] - 0s 1ms/step - loss: 31.1016 - mse: 31.1016 - val_loss: 50.8623 - val_mse: 50.8623\n",
      "Epoch 33/50\n",
      "91/91 [==============================] - 0s 1ms/step - loss: 28.8812 - mse: 28.8812 - val_loss: 54.1866 - val_mse: 54.1866\n",
      "Epoch 34/50\n",
      "91/91 [==============================] - 0s 1ms/step - loss: 23.2753 - mse: 23.2753 - val_loss: 66.4628 - val_mse: 66.4628\n",
      "Epoch 35/50\n",
      "91/91 [==============================] - 0s 1ms/step - loss: 24.9475 - mse: 24.9475 - val_loss: 58.0454 - val_mse: 58.0454\n",
      "Epoch 36/50\n",
      "91/91 [==============================] - 0s 1ms/step - loss: 22.1118 - mse: 22.1118 - val_loss: 52.5683 - val_mse: 52.5683\n",
      "Epoch 37/50\n",
      "91/91 [==============================] - 0s 1ms/step - loss: 22.8620 - mse: 22.8620 - val_loss: 49.2223 - val_mse: 49.2223\n",
      "Epoch 38/50\n",
      "91/91 [==============================] - 0s 1ms/step - loss: 19.3745 - mse: 19.3745 - val_loss: 57.9570 - val_mse: 57.9570\n",
      "Epoch 39/50\n",
      "91/91 [==============================] - 0s 1ms/step - loss: 22.8542 - mse: 22.8542 - val_loss: 53.0747 - val_mse: 53.0747\n",
      "Epoch 40/50\n",
      "91/91 [==============================] - 0s 1ms/step - loss: 19.0716 - mse: 19.0716 - val_loss: 46.8279 - val_mse: 46.8279\n",
      "Epoch 41/50\n",
      "91/91 [==============================] - 0s 1ms/step - loss: 20.2150 - mse: 20.2150 - val_loss: 55.8811 - val_mse: 55.8811\n",
      "Epoch 42/50\n",
      "91/91 [==============================] - 0s 1ms/step - loss: 17.8484 - mse: 17.8484 - val_loss: 51.9969 - val_mse: 51.9969\n",
      "Epoch 43/50\n",
      "91/91 [==============================] - 0s 1ms/step - loss: 22.5575 - mse: 22.5575 - val_loss: 48.0522 - val_mse: 48.0522\n",
      "Epoch 44/50\n",
      "91/91 [==============================] - 0s 1ms/step - loss: 16.7472 - mse: 16.7472 - val_loss: 37.4318 - val_mse: 37.4318\n",
      "Epoch 45/50\n",
      "39/91 [===========>..................] - ETA: 0s - loss: 27.5412 - mse: 27.5412WARNING:tensorflow:Your input ran out of data; interrupting training. Make sure that your dataset or generator can generate at least `steps_per_epoch * epochs` batches (in this case, 4550.0 batches). You may need to use the repeat() function when building your dataset.\n",
      "91/91 [==============================] - 0s 1ms/step - loss: 29.6921 - mse: 29.6921 - val_loss: 49.8020 - val_mse: 49.8020\n",
      "2/2 [==============================] - 0s 2ms/step - loss: 22.2437 - mse: 22.2437\n",
      "[22.24370002746582, 22.24370002746582]\n"
     ]
    }
   ],
   "source": [
    "model = load_model(\"./lec02_my_model.h5\")\n",
    "model.fit(x=X,y=y,validation_split=0.2,batch_size=5, epochs=50,steps_per_epoch=455/5)\n",
    "print(model.evaluate(X_test, y_test) )\n"
   ]
  },
  {
   "cell_type": "markdown",
   "id": "386a2782-8482-4434-bf66-db2a7369e3fa",
   "metadata": {},
   "source": [
    "### epochs=50, batch_size=5, learning_rate \n",
    "    * batch_size=5(약 90회 : w 보정 횟수가 10배 늘었다)\n",
    "    * epochs=50 (반복 학습이 5배 늘었다)\n",
    "    * learning_rate(0.001) 기본\n",
    "    * learning_rate(0.1) : 발산 loss가 매우 커졌다\n",
    "    * learning_rate(0.00001) : loss가 0에 수렴하지 못한다epochs=50, batch_size=5"
   ]
  },
  {
   "cell_type": "code",
   "execution_count": 31,
   "id": "e3d6e8fc-c9ae-49cf-b3a7-ca32495d70be",
   "metadata": {
    "tags": []
   },
   "outputs": [
    {
     "name": "stdout",
     "output_type": "stream",
     "text": [
      "Epoch 1/50\n",
      "91/91 [==============================] - 1s 3ms/step - loss: 935.5209 - mse: 935.5209 - val_loss: 648.8657 - val_mse: 648.8657\n",
      "Epoch 2/50\n",
      "91/91 [==============================] - 0s 1ms/step - loss: 885.7291 - mse: 885.7291 - val_loss: 599.5490 - val_mse: 599.5490\n",
      "Epoch 3/50\n",
      "91/91 [==============================] - 0s 2ms/step - loss: 842.3201 - mse: 842.3201 - val_loss: 554.2037 - val_mse: 554.2037\n",
      "Epoch 4/50\n",
      "91/91 [==============================] - 0s 1ms/step - loss: 774.5032 - mse: 774.5032 - val_loss: 523.5602 - val_mse: 523.5602\n",
      "Epoch 5/50\n",
      "91/91 [==============================] - 0s 1ms/step - loss: 767.5654 - mse: 767.5654 - val_loss: 499.8272 - val_mse: 499.8272\n",
      "Epoch 6/50\n",
      "91/91 [==============================] - 0s 1ms/step - loss: 749.4671 - mse: 749.4671 - val_loss: 486.5082 - val_mse: 486.5082\n",
      "Epoch 7/50\n",
      "91/91 [==============================] - 0s 2ms/step - loss: 741.2922 - mse: 741.2922 - val_loss: 476.4836 - val_mse: 476.4836\n",
      "Epoch 8/50\n",
      "91/91 [==============================] - 0s 1ms/step - loss: 733.5770 - mse: 733.5770 - val_loss: 467.5192 - val_mse: 467.5192\n",
      "Epoch 9/50\n",
      "91/91 [==============================] - 0s 2ms/step - loss: 711.9540 - mse: 711.9540 - val_loss: 458.3821 - val_mse: 458.3821\n",
      "Epoch 10/50\n",
      "91/91 [==============================] - 0s 1ms/step - loss: 734.7267 - mse: 734.7267 - val_loss: 450.4911 - val_mse: 450.4911\n",
      "Epoch 11/50\n",
      "91/91 [==============================] - 0s 1ms/step - loss: 734.1660 - mse: 734.1660 - val_loss: 442.6892 - val_mse: 442.6892\n",
      "Epoch 12/50\n",
      "91/91 [==============================] - 0s 1ms/step - loss: 678.8138 - mse: 678.8138 - val_loss: 435.6431 - val_mse: 435.6431\n",
      "Epoch 13/50\n",
      "91/91 [==============================] - 0s 1ms/step - loss: 693.4628 - mse: 693.4628 - val_loss: 428.1536 - val_mse: 428.1536\n",
      "Epoch 14/50\n",
      "91/91 [==============================] - 0s 2ms/step - loss: 700.3263 - mse: 700.3263 - val_loss: 422.6758 - val_mse: 422.6758\n",
      "Epoch 15/50\n",
      "91/91 [==============================] - 0s 1ms/step - loss: 689.1837 - mse: 689.1837 - val_loss: 415.2496 - val_mse: 415.2496\n",
      "Epoch 16/50\n",
      "91/91 [==============================] - 0s 1ms/step - loss: 682.4709 - mse: 682.4709 - val_loss: 408.8014 - val_mse: 408.8014\n",
      "Epoch 17/50\n",
      "91/91 [==============================] - 0s 2ms/step - loss: 689.2238 - mse: 689.2238 - val_loss: 402.5800 - val_mse: 402.5800\n",
      "Epoch 18/50\n",
      "91/91 [==============================] - 0s 1ms/step - loss: 665.8547 - mse: 665.8547 - val_loss: 395.9938 - val_mse: 395.9938\n",
      "Epoch 19/50\n",
      "91/91 [==============================] - 0s 1ms/step - loss: 662.4896 - mse: 662.4896 - val_loss: 389.1342 - val_mse: 389.1342\n",
      "Epoch 20/50\n",
      "91/91 [==============================] - 0s 1ms/step - loss: 647.1680 - mse: 647.1680 - val_loss: 382.8786 - val_mse: 382.8786\n",
      "Epoch 21/50\n",
      "91/91 [==============================] - 0s 2ms/step - loss: 658.9878 - mse: 658.9878 - val_loss: 376.7596 - val_mse: 376.7596\n",
      "Epoch 22/50\n",
      "91/91 [==============================] - 0s 1ms/step - loss: 663.9440 - mse: 663.9440 - val_loss: 370.1174 - val_mse: 370.1174\n",
      "Epoch 23/50\n",
      "91/91 [==============================] - 0s 1ms/step - loss: 630.7709 - mse: 630.7709 - val_loss: 364.4433 - val_mse: 364.4433\n",
      "Epoch 24/50\n",
      "91/91 [==============================] - 0s 1ms/step - loss: 658.3329 - mse: 658.3329 - val_loss: 358.5190 - val_mse: 358.5190\n",
      "Epoch 25/50\n",
      "91/91 [==============================] - 0s 1ms/step - loss: 633.2632 - mse: 633.2632 - val_loss: 352.4244 - val_mse: 352.4244\n",
      "Epoch 26/50\n",
      "91/91 [==============================] - 0s 1ms/step - loss: 620.7819 - mse: 620.7819 - val_loss: 346.2004 - val_mse: 346.2004\n",
      "Epoch 27/50\n",
      "91/91 [==============================] - 0s 1ms/step - loss: 619.4316 - mse: 619.4316 - val_loss: 340.1282 - val_mse: 340.1282\n",
      "Epoch 28/50\n",
      "91/91 [==============================] - 0s 1ms/step - loss: 629.4389 - mse: 629.4389 - val_loss: 333.2457 - val_mse: 333.2457\n",
      "Epoch 29/50\n",
      "91/91 [==============================] - 0s 1ms/step - loss: 602.6545 - mse: 602.6545 - val_loss: 326.6020 - val_mse: 326.6020\n",
      "Epoch 30/50\n",
      "91/91 [==============================] - 0s 1ms/step - loss: 578.0846 - mse: 578.0846 - val_loss: 319.6446 - val_mse: 319.6446\n",
      "Epoch 31/50\n",
      "91/91 [==============================] - 0s 2ms/step - loss: 618.4423 - mse: 618.4423 - val_loss: 311.5147 - val_mse: 311.5147\n",
      "Epoch 32/50\n",
      "91/91 [==============================] - 0s 1ms/step - loss: 580.6381 - mse: 580.6381 - val_loss: 303.6209 - val_mse: 303.6209\n",
      "Epoch 33/50\n",
      "91/91 [==============================] - 0s 1ms/step - loss: 580.6219 - mse: 580.6219 - val_loss: 293.8892 - val_mse: 293.8892\n",
      "Epoch 34/50\n",
      "91/91 [==============================] - 0s 1ms/step - loss: 564.1107 - mse: 564.1107 - val_loss: 283.4573 - val_mse: 283.4573\n",
      "Epoch 35/50\n",
      "91/91 [==============================] - 0s 1ms/step - loss: 551.8011 - mse: 551.8011 - val_loss: 273.0660 - val_mse: 273.0660\n",
      "Epoch 36/50\n",
      "91/91 [==============================] - 0s 1ms/step - loss: 534.1875 - mse: 534.1875 - val_loss: 260.5050 - val_mse: 260.5050\n",
      "Epoch 37/50\n",
      "91/91 [==============================] - 0s 1ms/step - loss: 535.1669 - mse: 535.1669 - val_loss: 247.2260 - val_mse: 247.2260\n",
      "Epoch 38/50\n",
      "91/91 [==============================] - 0s 1ms/step - loss: 527.6495 - mse: 527.6495 - val_loss: 233.5031 - val_mse: 233.5031\n",
      "Epoch 39/50\n",
      "91/91 [==============================] - 0s 1ms/step - loss: 506.1982 - mse: 506.1982 - val_loss: 218.2008 - val_mse: 218.2008\n",
      "Epoch 40/50\n",
      "91/91 [==============================] - 0s 1ms/step - loss: 482.0310 - mse: 482.0310 - val_loss: 202.7495 - val_mse: 202.7495\n",
      "Epoch 41/50\n",
      "91/91 [==============================] - 0s 2ms/step - loss: 474.1211 - mse: 474.1211 - val_loss: 187.5034 - val_mse: 187.5035\n",
      "Epoch 42/50\n",
      "91/91 [==============================] - 0s 1ms/step - loss: 442.3717 - mse: 442.3717 - val_loss: 172.0644 - val_mse: 172.0644\n",
      "Epoch 43/50\n",
      "91/91 [==============================] - 0s 1ms/step - loss: 435.9423 - mse: 435.9424 - val_loss: 156.2534 - val_mse: 156.2534\n",
      "Epoch 44/50\n",
      "91/91 [==============================] - 0s 1ms/step - loss: 395.3596 - mse: 395.3596 - val_loss: 141.0702 - val_mse: 141.0702\n",
      "Epoch 45/50\n",
      "46/91 [==============>...............] - ETA: 0s - loss: 436.1529 - mse: 436.1529WARNING:tensorflow:Your input ran out of data; interrupting training. Make sure that your dataset or generator can generate at least `steps_per_epoch * epochs` batches (in this case, 4550.0 batches). You may need to use the repeat() function when building your dataset.\n",
      "91/91 [==============================] - 0s 1ms/step - loss: 436.1529 - mse: 436.1529 - val_loss: 133.2031 - val_mse: 133.2031\n",
      "2/2 [==============================] - 0s 3ms/step - loss: 266.8429 - mse: 266.8429\n",
      "[266.8428955078125, 266.8428955078125]\n"
     ]
    }
   ],
   "source": [
    "from keras.optimizers import Adam  # learning_rate=0.001\n",
    "\n",
    "model = Sequential()\n",
    "model.add(Dense(units=56, input_dim=len(X_train.columns), activation='relu'\n",
    "               , kernel_initializer='glorot_normal'  #--  Xavier:1/root(N)\n",
    "               ))\n",
    "model.add(Dense(units=24 , activation='relu'))\n",
    "model.add(Dense(units=26 , activation='relu', kernel_initializer='glorot_normal'))\n",
    "model.add(Dense(units=12 , activation='relu'))\n",
    "model.add(Dense(units=8  , activation='relu'))\n",
    "model.add(Dense(units=4  , activation='relu'))\n",
    "model.add(Dense(units=1  ))  #-----------------회귀 : y^ = wx+b\n",
    "#model.compile(loss=\"mean_squared_error\", optimizer=\"adam\", metrics=\"mse\")\n",
    "model.compile(loss=\"mean_squared_error\", optimizer=Adam(learning_rate=0.00001), metrics=\"mse\") #----------l o m\n",
    "model.fit(x=X,y=y,validation_split=0.2,epochs=50,batch_size=5, steps_per_epoch=455/5)\n",
    "print(model.evaluate(X_test, y_test) )"
   ]
  },
  {
   "cell_type": "markdown",
   "id": "48bfb0d6-cf45-4644-97a6-340017f8563c",
   "metadata": {},
   "source": [
    "## evaluate()"
   ]
  },
  {
   "cell_type": "code",
   "execution_count": 32,
   "id": "4a69079b-a002-4a50-9c03-060e7e5287b6",
   "metadata": {
    "tags": []
   },
   "outputs": [
    {
     "name": "stdout",
     "output_type": "stream",
     "text": [
      "2/2 [==============================] - 0s 3ms/step - loss: 266.8429 - mse: 266.8429\n"
     ]
    },
    {
     "data": {
      "text/plain": [
       "[266.8428955078125, 266.8428955078125]"
      ]
     },
     "execution_count": 32,
     "metadata": {},
     "output_type": "execute_result"
    }
   ],
   "source": [
    "model.evaluate(X_test, y_test) \n",
    "# batch_size=None,\n",
    "# steps=None,"
   ]
  },
  {
   "cell_type": "markdown",
   "id": "7d711868-db02-4411-8dbd-18bde18b6fee",
   "metadata": {},
   "source": [
    "## predict()"
   ]
  },
  {
   "cell_type": "code",
   "execution_count": 33,
   "id": "26bfed6c-5136-46c4-b32b-618190f14d58",
   "metadata": {
    "tags": []
   },
   "outputs": [],
   "source": [
    "# yhat = model.predict(test_csv)"
   ]
  }
 ],
 "metadata": {
  "kernelspec": {
   "display_name": "Python 3 (ipykernel)",
   "language": "python",
   "name": "python3"
  },
  "language_info": {
   "codemirror_mode": {
    "name": "ipython",
    "version": 3
   },
   "file_extension": ".py",
   "mimetype": "text/x-python",
   "name": "python",
   "nbconvert_exporter": "python",
   "pygments_lexer": "ipython3",
   "version": "3.8.8"
  },
  "toc-autonumbering": true
 },
 "nbformat": 4,
 "nbformat_minor": 5
}
