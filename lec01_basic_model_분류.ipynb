{
 "cells": [
  {
   "cell_type": "markdown",
   "id": "5ac9c037-e7cf-462f-a1a0-b6e95a84f303",
   "metadata": {},
   "source": [
    "<font size=6><b> Lec01. 딥러닝 기초"
   ]
  },
  {
   "cell_type": "markdown",
   "id": "1097856f-4dbc-4b41-b000-05d65296c3b4",
   "metadata": {},
   "source": [
    "* ref : https://www.tensorflow.org/?hl=ko\n",
    "* ref : https://keras.io/ko/\n",
    "* ref : https://keras.io/api/layers/core_layers/dense/"
   ]
  },
  {
   "cell_type": "code",
   "execution_count": 1,
   "id": "f7d79890-c577-4bcc-8d35-a0d39c8ae470",
   "metadata": {},
   "outputs": [
    {
     "data": {
      "text/html": [
       "<style>.container{width:100% !important;}</style>"
      ],
      "text/plain": [
       "<IPython.core.display.HTML object>"
      ]
     },
     "metadata": {},
     "output_type": "display_data"
    }
   ],
   "source": [
    "import numpy as np\n",
    "import pandas as pd\n",
    "\n",
    "import matplotlib.pyplot as plt\n",
    "import seaborn as sns\n",
    "\n",
    "\n",
    "sns.set()\n",
    "\n",
    "#-------------------- 차트 관련 속성 (한글처리, 그리드) -----------\n",
    "plt.rcParams['font.family']= 'Malgun Gothic'\n",
    "plt.rcParams['axes.unicode_minus'] = False\n",
    "\n",
    "#-------------------- 주피터 , 출력결과 넓이 늘리기 ---------------\n",
    "# from IPython.core.display import display, HTML\n",
    "from IPython.display import display, HTML\n",
    "\n",
    "display(HTML(\"<style>.container{width:100% !important;}</style>\"))\n",
    "pd.set_option('display.max_rows', 100)\n",
    "pd.set_option('display.max_columns', 100)\n",
    "pd.set_option('max_colwidth', None)\n",
    "\n",
    "import warnings\n",
    "warnings.filterwarnings(action='ignore')"
   ]
  },
  {
   "cell_type": "code",
   "execution_count": 2,
   "id": "7c812599-61d1-496b-b16a-5c3ad006c8be",
   "metadata": {
    "tags": []
   },
   "outputs": [
    {
     "data": {
      "text/html": [
       "<div>\n",
       "<style scoped>\n",
       "    .dataframe tbody tr th:only-of-type {\n",
       "        vertical-align: middle;\n",
       "    }\n",
       "\n",
       "    .dataframe tbody tr th {\n",
       "        vertical-align: top;\n",
       "    }\n",
       "\n",
       "    .dataframe thead th {\n",
       "        text-align: right;\n",
       "    }\n",
       "</style>\n",
       "<table border=\"1\" class=\"dataframe\">\n",
       "  <thead>\n",
       "    <tr style=\"text-align: right;\">\n",
       "      <th></th>\n",
       "      <th>sl</th>\n",
       "      <th>sw</th>\n",
       "      <th>pl</th>\n",
       "      <th>pw</th>\n",
       "      <th>target</th>\n",
       "    </tr>\n",
       "  </thead>\n",
       "  <tbody>\n",
       "    <tr>\n",
       "      <th>0</th>\n",
       "      <td>5.1</td>\n",
       "      <td>3.5</td>\n",
       "      <td>1.4</td>\n",
       "      <td>0.2</td>\n",
       "      <td>0</td>\n",
       "    </tr>\n",
       "    <tr>\n",
       "      <th>1</th>\n",
       "      <td>4.9</td>\n",
       "      <td>3.0</td>\n",
       "      <td>1.4</td>\n",
       "      <td>0.2</td>\n",
       "      <td>0</td>\n",
       "    </tr>\n",
       "    <tr>\n",
       "      <th>2</th>\n",
       "      <td>4.7</td>\n",
       "      <td>3.2</td>\n",
       "      <td>1.3</td>\n",
       "      <td>0.2</td>\n",
       "      <td>0</td>\n",
       "    </tr>\n",
       "    <tr>\n",
       "      <th>3</th>\n",
       "      <td>4.6</td>\n",
       "      <td>3.1</td>\n",
       "      <td>1.5</td>\n",
       "      <td>0.2</td>\n",
       "      <td>0</td>\n",
       "    </tr>\n",
       "    <tr>\n",
       "      <th>4</th>\n",
       "      <td>5.0</td>\n",
       "      <td>3.6</td>\n",
       "      <td>1.4</td>\n",
       "      <td>0.2</td>\n",
       "      <td>0</td>\n",
       "    </tr>\n",
       "  </tbody>\n",
       "</table>\n",
       "</div>"
      ],
      "text/plain": [
       "    sl   sw   pl   pw  target\n",
       "0  5.1  3.5  1.4  0.2       0\n",
       "1  4.9  3.0  1.4  0.2       0\n",
       "2  4.7  3.2  1.3  0.2       0\n",
       "3  4.6  3.1  1.5  0.2       0\n",
       "4  5.0  3.6  1.4  0.2       0"
      ]
     },
     "execution_count": 2,
     "metadata": {},
     "output_type": "execute_result"
    }
   ],
   "source": [
    "df = pd.read_csv(\"../ML/datasets/iris.csv\")\n",
    "df.head()"
   ]
  },
  {
   "cell_type": "code",
   "execution_count": 3,
   "id": "d025617b-e8fb-4f0a-a09b-364b28f2d662",
   "metadata": {
    "tags": []
   },
   "outputs": [],
   "source": [
    "from sklearn.model_selection import train_test_split"
   ]
  },
  {
   "cell_type": "code",
   "execution_count": 4,
   "id": "91d537d9-7c9b-476e-9607-7cb8204ef647",
   "metadata": {
    "tags": []
   },
   "outputs": [],
   "source": [
    "y = df['target']\n",
    "X = df.drop(['target'], axis=1)"
   ]
  },
  {
   "cell_type": "markdown",
   "id": "5ae05281-6bba-4e32-8eee-7a335bcc289b",
   "metadata": {},
   "source": [
    "## sparse_categorical_crossentropy\n",
    "* target값이 int인 경우 : sparse_categorical_crossentropy"
   ]
  },
  {
   "cell_type": "code",
   "execution_count": 5,
   "id": "8cc2173c-b770-4b8f-bbce-c3535b61c8f6",
   "metadata": {
    "tags": []
   },
   "outputs": [
    {
     "name": "stdout",
     "output_type": "stream",
     "text": [
      "8      0\n",
      "23     0\n",
      "101    2\n",
      "49     0\n",
      "111    2\n",
      "Name: target, dtype: int64\n"
     ]
    }
   ],
   "source": [
    "X_train,X_test, y_train, y_test = train_test_split(X, y , test_size=0.2, random_state=11, stratify=y)\n",
    "X_train.shape,X_test.shape, y_train.shape, y_test.shape\n",
    "print(y_train[:5])"
   ]
  },
  {
   "cell_type": "markdown",
   "id": "d9d3d259-f181-4c62-abc4-db4dcf2f70c7",
   "metadata": {
    "tags": []
   },
   "source": [
    "## categorical_crossentropy\n",
    "* target값이 categorical(one-hot)인 경우 : categorical_crossentropy"
   ]
  },
  {
   "cell_type": "code",
   "execution_count": 6,
   "id": "fc6388a9-3077-49d2-8061-3ae0d0c2d84d",
   "metadata": {
    "tags": []
   },
   "outputs": [
    {
     "name": "stdout",
     "output_type": "stream",
     "text": [
      "   0  1  2\n",
      "0  1  0  0\n",
      "1  1  0  0\n",
      "2  1  0  0\n",
      "3  1  0  0\n",
      "4  1  0  0\n",
      "[[1 0 0]\n",
      " [1 0 0]\n",
      " [1 0 0]\n",
      " [1 0 0]\n",
      " [1 0 0]]\n"
     ]
    }
   ],
   "source": [
    "yc = pd.get_dummies(y)\n",
    "print(yc[:5])\n",
    "\n",
    "from keras.utils import to_categorical\n",
    "yc2 = to_categorical(y, num_classes=3, dtype='int')\n",
    "print(yc2[:5])\n"
   ]
  },
  {
   "cell_type": "code",
   "execution_count": 7,
   "id": "7d1ff713-a73a-416c-aba8-1f16f9f9fd00",
   "metadata": {
    "tags": []
   },
   "outputs": [
    {
     "name": "stdout",
     "output_type": "stream",
     "text": [
      "     0  1  2\n",
      "8    1  0  0\n",
      "23   1  0  0\n",
      "101  0  0  1\n",
      "49   1  0  0\n",
      "111  0  0  1\n"
     ]
    },
    {
     "data": {
      "text/plain": [
       "((120, 4), (30, 4), (120, 3), (30, 3))"
      ]
     },
     "execution_count": 7,
     "metadata": {},
     "output_type": "execute_result"
    }
   ],
   "source": [
    "X_train,X_test, y_train, y_test = train_test_split(X, yc , test_size=0.2, random_state=11, stratify=y)\n",
    "X_train.shape,X_test.shape, y_train.shape, y_test.shape\n",
    "print(y_train[:5])\n",
    "X_train.shape,X_test.shape, y_train.shape, y_test.shape"
   ]
  },
  {
   "cell_type": "code",
   "execution_count": 8,
   "id": "3d354a40-0a69-4d27-8d36-4aa668868b95",
   "metadata": {
    "tags": []
   },
   "outputs": [
    {
     "data": {
      "text/html": [
       "<div>\n",
       "<style scoped>\n",
       "    .dataframe tbody tr th:only-of-type {\n",
       "        vertical-align: middle;\n",
       "    }\n",
       "\n",
       "    .dataframe tbody tr th {\n",
       "        vertical-align: top;\n",
       "    }\n",
       "\n",
       "    .dataframe thead th {\n",
       "        text-align: right;\n",
       "    }\n",
       "</style>\n",
       "<table border=\"1\" class=\"dataframe\">\n",
       "  <thead>\n",
       "    <tr style=\"text-align: right;\">\n",
       "      <th></th>\n",
       "      <th>sl</th>\n",
       "      <th>sw</th>\n",
       "      <th>pl</th>\n",
       "      <th>pw</th>\n",
       "    </tr>\n",
       "  </thead>\n",
       "  <tbody>\n",
       "    <tr>\n",
       "      <th>8</th>\n",
       "      <td>4.4</td>\n",
       "      <td>2.9</td>\n",
       "      <td>1.4</td>\n",
       "      <td>0.2</td>\n",
       "    </tr>\n",
       "    <tr>\n",
       "      <th>23</th>\n",
       "      <td>5.1</td>\n",
       "      <td>3.3</td>\n",
       "      <td>1.7</td>\n",
       "      <td>0.5</td>\n",
       "    </tr>\n",
       "    <tr>\n",
       "      <th>101</th>\n",
       "      <td>5.8</td>\n",
       "      <td>2.7</td>\n",
       "      <td>5.1</td>\n",
       "      <td>1.9</td>\n",
       "    </tr>\n",
       "    <tr>\n",
       "      <th>49</th>\n",
       "      <td>5.0</td>\n",
       "      <td>3.3</td>\n",
       "      <td>1.4</td>\n",
       "      <td>0.2</td>\n",
       "    </tr>\n",
       "    <tr>\n",
       "      <th>111</th>\n",
       "      <td>6.4</td>\n",
       "      <td>2.7</td>\n",
       "      <td>5.3</td>\n",
       "      <td>1.9</td>\n",
       "    </tr>\n",
       "  </tbody>\n",
       "</table>\n",
       "</div>"
      ],
      "text/plain": [
       "      sl   sw   pl   pw\n",
       "8    4.4  2.9  1.4  0.2\n",
       "23   5.1  3.3  1.7  0.5\n",
       "101  5.8  2.7  5.1  1.9\n",
       "49   5.0  3.3  1.4  0.2\n",
       "111  6.4  2.7  5.3  1.9"
      ]
     },
     "execution_count": 8,
     "metadata": {},
     "output_type": "execute_result"
    }
   ],
   "source": [
    "X_train.head()"
   ]
  },
  {
   "cell_type": "code",
   "execution_count": 9,
   "id": "901b455f-4c7a-4583-b3c5-bfe0852a3418",
   "metadata": {
    "tags": []
   },
   "outputs": [
    {
     "data": {
      "text/html": [
       "<div>\n",
       "<style scoped>\n",
       "    .dataframe tbody tr th:only-of-type {\n",
       "        vertical-align: middle;\n",
       "    }\n",
       "\n",
       "    .dataframe tbody tr th {\n",
       "        vertical-align: top;\n",
       "    }\n",
       "\n",
       "    .dataframe thead th {\n",
       "        text-align: right;\n",
       "    }\n",
       "</style>\n",
       "<table border=\"1\" class=\"dataframe\">\n",
       "  <thead>\n",
       "    <tr style=\"text-align: right;\">\n",
       "      <th></th>\n",
       "      <th>0</th>\n",
       "      <th>1</th>\n",
       "      <th>2</th>\n",
       "    </tr>\n",
       "  </thead>\n",
       "  <tbody>\n",
       "    <tr>\n",
       "      <th>8</th>\n",
       "      <td>1</td>\n",
       "      <td>0</td>\n",
       "      <td>0</td>\n",
       "    </tr>\n",
       "    <tr>\n",
       "      <th>23</th>\n",
       "      <td>1</td>\n",
       "      <td>0</td>\n",
       "      <td>0</td>\n",
       "    </tr>\n",
       "    <tr>\n",
       "      <th>101</th>\n",
       "      <td>0</td>\n",
       "      <td>0</td>\n",
       "      <td>1</td>\n",
       "    </tr>\n",
       "    <tr>\n",
       "      <th>49</th>\n",
       "      <td>1</td>\n",
       "      <td>0</td>\n",
       "      <td>0</td>\n",
       "    </tr>\n",
       "    <tr>\n",
       "      <th>111</th>\n",
       "      <td>0</td>\n",
       "      <td>0</td>\n",
       "      <td>1</td>\n",
       "    </tr>\n",
       "  </tbody>\n",
       "</table>\n",
       "</div>"
      ],
      "text/plain": [
       "     0  1  2\n",
       "8    1  0  0\n",
       "23   1  0  0\n",
       "101  0  0  1\n",
       "49   1  0  0\n",
       "111  0  0  1"
      ]
     },
     "execution_count": 9,
     "metadata": {},
     "output_type": "execute_result"
    }
   ],
   "source": [
    "y_train.head()"
   ]
  },
  {
   "cell_type": "code",
   "execution_count": 10,
   "id": "76fb338f-97c6-49c3-a4d4-fe192d10cf68",
   "metadata": {},
   "outputs": [],
   "source": [
    "from keras.layers import Dense\n",
    "from keras import Sequential\n",
    "from keras.initializers import GlorotNormal  #Xavier"
   ]
  },
  {
   "cell_type": "markdown",
   "id": "40a51ce4-251c-49ee-a15a-bd59392ade86",
   "metadata": {
    "tags": []
   },
   "source": [
    "* kernel_initializer\n",
    "    * https://www.kaggle.com/code/sauravjoshi23/weight-initialization-methods-keras"
   ]
  },
  {
   "cell_type": "code",
   "execution_count": 11,
   "id": "985ffd23-94c9-47b1-985f-377c23b67da1",
   "metadata": {},
   "outputs": [],
   "source": [
    "model = Sequential()\n",
    "model.add(Dense(units=10, input_dim=4, activation='relu', kernel_initializer='glorot_normal')) #입력층\n",
    "model.add(Dense(units=6,  activation='relu'))              #히든레이어\n",
    "model.add(Dense(units=6,  activation='relu'))              #히든레이어\n",
    "model.add(Dense(units=3,  activation='softmax'))           #3종 출력층\n",
    "model.compile(loss='categorical_crossentropy', optimizer='Adam', metrics=['accuracy'])"
   ]
  },
  {
   "cell_type": "code",
   "execution_count": 12,
   "id": "22692baa-5a4a-486d-905f-5871c57a6878",
   "metadata": {},
   "outputs": [
    {
     "name": "stdout",
     "output_type": "stream",
     "text": [
      "Model: \"sequential\"\n",
      "_________________________________________________________________\n",
      " Layer (type)                Output Shape              Param #   \n",
      "=================================================================\n",
      " dense (Dense)               (None, 10)                50        \n",
      "                                                                 \n",
      " dense_1 (Dense)             (None, 6)                 66        \n",
      "                                                                 \n",
      " dense_2 (Dense)             (None, 6)                 42        \n",
      "                                                                 \n",
      " dense_3 (Dense)             (None, 3)                 21        \n",
      "                                                                 \n",
      "=================================================================\n",
      "Total params: 179\n",
      "Trainable params: 179\n",
      "Non-trainable params: 0\n",
      "_________________________________________________________________\n"
     ]
    }
   ],
   "source": [
    "model.summary()"
   ]
  },
  {
   "cell_type": "code",
   "execution_count": 13,
   "id": "f499701a-23aa-49b4-bdc1-1fec506283e1",
   "metadata": {
    "tags": []
   },
   "outputs": [
    {
     "name": "stdout",
     "output_type": "stream",
     "text": [
      "Epoch 1/100\n",
      "4/4 [==============================] - 1s 56ms/step - loss: 1.1791 - accuracy: 0.5000 - val_loss: 1.1590 - val_accuracy: 0.5333\n",
      "Epoch 2/100\n",
      "4/4 [==============================] - 0s 11ms/step - loss: 1.1534 - accuracy: 0.4833 - val_loss: 1.1373 - val_accuracy: 0.5000\n",
      "Epoch 3/100\n",
      "4/4 [==============================] - 0s 13ms/step - loss: 1.1333 - accuracy: 0.4750 - val_loss: 1.1149 - val_accuracy: 0.5333\n",
      "Epoch 4/100\n",
      "4/4 [==============================] - 0s 12ms/step - loss: 1.1109 - accuracy: 0.4833 - val_loss: 1.0939 - val_accuracy: 0.5333\n",
      "Epoch 5/100\n",
      "4/4 [==============================] - 0s 11ms/step - loss: 1.0926 - accuracy: 0.4917 - val_loss: 1.0736 - val_accuracy: 0.5333\n",
      "Epoch 6/100\n",
      "4/4 [==============================] - 0s 11ms/step - loss: 1.0705 - accuracy: 0.4167 - val_loss: 1.0551 - val_accuracy: 0.4333\n",
      "Epoch 7/100\n",
      "4/4 [==============================] - 0s 11ms/step - loss: 1.0516 - accuracy: 0.3917 - val_loss: 1.0364 - val_accuracy: 0.4000\n",
      "Epoch 8/100\n",
      "4/4 [==============================] - 0s 11ms/step - loss: 1.0341 - accuracy: 0.3667 - val_loss: 1.0178 - val_accuracy: 0.3667\n",
      "Epoch 9/100\n",
      "4/4 [==============================] - 0s 10ms/step - loss: 1.0157 - accuracy: 0.3583 - val_loss: 1.0005 - val_accuracy: 0.3333\n",
      "Epoch 10/100\n",
      "4/4 [==============================] - 0s 11ms/step - loss: 0.9995 - accuracy: 0.3417 - val_loss: 0.9848 - val_accuracy: 0.3667\n",
      "Epoch 11/100\n",
      "4/4 [==============================] - 0s 11ms/step - loss: 0.9835 - accuracy: 0.4417 - val_loss: 0.9684 - val_accuracy: 0.6333\n",
      "Epoch 12/100\n",
      "4/4 [==============================] - 0s 11ms/step - loss: 0.9666 - accuracy: 0.5917 - val_loss: 0.9521 - val_accuracy: 0.6333\n",
      "Epoch 13/100\n",
      "4/4 [==============================] - 0s 11ms/step - loss: 0.9501 - accuracy: 0.6333 - val_loss: 0.9361 - val_accuracy: 0.6667\n",
      "Epoch 14/100\n",
      "4/4 [==============================] - 0s 11ms/step - loss: 0.9341 - accuracy: 0.6583 - val_loss: 0.9199 - val_accuracy: 0.6667\n",
      "Epoch 15/100\n",
      "4/4 [==============================] - 0s 11ms/step - loss: 0.9179 - accuracy: 0.6583 - val_loss: 0.9035 - val_accuracy: 0.6667\n",
      "Epoch 16/100\n",
      "4/4 [==============================] - 0s 11ms/step - loss: 0.9006 - accuracy: 0.6583 - val_loss: 0.8868 - val_accuracy: 0.6667\n",
      "Epoch 17/100\n",
      "4/4 [==============================] - 0s 11ms/step - loss: 0.8835 - accuracy: 0.6667 - val_loss: 0.8703 - val_accuracy: 0.6667\n",
      "Epoch 18/100\n",
      "4/4 [==============================] - 0s 10ms/step - loss: 0.8671 - accuracy: 0.6667 - val_loss: 0.8533 - val_accuracy: 0.6667\n",
      "Epoch 19/100\n",
      "4/4 [==============================] - 0s 11ms/step - loss: 0.8493 - accuracy: 0.6667 - val_loss: 0.8356 - val_accuracy: 0.6667\n",
      "Epoch 20/100\n",
      "4/4 [==============================] - 0s 11ms/step - loss: 0.8315 - accuracy: 0.6667 - val_loss: 0.8181 - val_accuracy: 0.6667\n",
      "Epoch 21/100\n",
      "4/4 [==============================] - 0s 10ms/step - loss: 0.8123 - accuracy: 0.6667 - val_loss: 0.7996 - val_accuracy: 0.6667\n",
      "Epoch 22/100\n",
      "4/4 [==============================] - 0s 11ms/step - loss: 0.7936 - accuracy: 0.6667 - val_loss: 0.7813 - val_accuracy: 0.6667\n",
      "Epoch 23/100\n",
      "4/4 [==============================] - 0s 11ms/step - loss: 0.7745 - accuracy: 0.6667 - val_loss: 0.7631 - val_accuracy: 0.6667\n",
      "Epoch 24/100\n",
      "4/4 [==============================] - 0s 11ms/step - loss: 0.7563 - accuracy: 0.6667 - val_loss: 0.7444 - val_accuracy: 0.6667\n",
      "Epoch 25/100\n",
      "4/4 [==============================] - 0s 11ms/step - loss: 0.7370 - accuracy: 0.6667 - val_loss: 0.7255 - val_accuracy: 0.6667\n",
      "Epoch 26/100\n",
      "4/4 [==============================] - 0s 11ms/step - loss: 0.7175 - accuracy: 0.6667 - val_loss: 0.7063 - val_accuracy: 0.6667\n",
      "Epoch 27/100\n",
      "4/4 [==============================] - 0s 12ms/step - loss: 0.6984 - accuracy: 0.6667 - val_loss: 0.6876 - val_accuracy: 0.6667\n",
      "Epoch 28/100\n",
      "4/4 [==============================] - 0s 11ms/step - loss: 0.6798 - accuracy: 0.6667 - val_loss: 0.6693 - val_accuracy: 0.6667\n",
      "Epoch 29/100\n",
      "4/4 [==============================] - 0s 10ms/step - loss: 0.6620 - accuracy: 0.6667 - val_loss: 0.6514 - val_accuracy: 0.6667\n",
      "Epoch 30/100\n",
      "4/4 [==============================] - 0s 11ms/step - loss: 0.6444 - accuracy: 0.6667 - val_loss: 0.6340 - val_accuracy: 0.7000\n",
      "Epoch 31/100\n",
      "4/4 [==============================] - 0s 11ms/step - loss: 0.6273 - accuracy: 0.7333 - val_loss: 0.6174 - val_accuracy: 0.8333\n",
      "Epoch 32/100\n",
      "4/4 [==============================] - 0s 11ms/step - loss: 0.6114 - accuracy: 0.8667 - val_loss: 0.6015 - val_accuracy: 0.9333\n",
      "Epoch 33/100\n",
      "4/4 [==============================] - 0s 11ms/step - loss: 0.5957 - accuracy: 0.9167 - val_loss: 0.5868 - val_accuracy: 0.9333\n",
      "Epoch 34/100\n",
      "4/4 [==============================] - 0s 11ms/step - loss: 0.5818 - accuracy: 0.9333 - val_loss: 0.5733 - val_accuracy: 0.9667\n",
      "Epoch 35/100\n",
      "4/4 [==============================] - 0s 11ms/step - loss: 0.5692 - accuracy: 0.9417 - val_loss: 0.5602 - val_accuracy: 0.9667\n",
      "Epoch 36/100\n",
      "4/4 [==============================] - 0s 9ms/step - loss: 0.5562 - accuracy: 0.9667 - val_loss: 0.5482 - val_accuracy: 1.0000\n",
      "Epoch 37/100\n",
      "4/4 [==============================] - 0s 9ms/step - loss: 0.5453 - accuracy: 0.9583 - val_loss: 0.5373 - val_accuracy: 1.0000\n",
      "Epoch 38/100\n",
      "4/4 [==============================] - 0s 9ms/step - loss: 0.5347 - accuracy: 0.9333 - val_loss: 0.5275 - val_accuracy: 0.9667\n",
      "Epoch 39/100\n",
      "4/4 [==============================] - 0s 10ms/step - loss: 0.5252 - accuracy: 0.9167 - val_loss: 0.5183 - val_accuracy: 0.9333\n",
      "Epoch 40/100\n",
      "4/4 [==============================] - 0s 10ms/step - loss: 0.5161 - accuracy: 0.9083 - val_loss: 0.5095 - val_accuracy: 0.9333\n",
      "Epoch 41/100\n",
      "4/4 [==============================] - 0s 10ms/step - loss: 0.5075 - accuracy: 0.8833 - val_loss: 0.5010 - val_accuracy: 0.9000\n",
      "Epoch 42/100\n",
      "4/4 [==============================] - 0s 11ms/step - loss: 0.4995 - accuracy: 0.8750 - val_loss: 0.4932 - val_accuracy: 0.9000\n",
      "Epoch 43/100\n",
      "4/4 [==============================] - 0s 12ms/step - loss: 0.4922 - accuracy: 0.8583 - val_loss: 0.4856 - val_accuracy: 0.9000\n",
      "Epoch 44/100\n",
      "4/4 [==============================] - 0s 10ms/step - loss: 0.4854 - accuracy: 0.8500 - val_loss: 0.4784 - val_accuracy: 0.9000\n",
      "Epoch 45/100\n",
      "4/4 [==============================] - 0s 11ms/step - loss: 0.4785 - accuracy: 0.8417 - val_loss: 0.4717 - val_accuracy: 0.9000\n",
      "Epoch 46/100\n",
      "4/4 [==============================] - 0s 14ms/step - loss: 0.4720 - accuracy: 0.8500 - val_loss: 0.4651 - val_accuracy: 0.9000\n",
      "Epoch 47/100\n",
      "4/4 [==============================] - 0s 13ms/step - loss: 0.4658 - accuracy: 0.8583 - val_loss: 0.4587 - val_accuracy: 0.9000\n",
      "Epoch 48/100\n",
      "4/4 [==============================] - 0s 13ms/step - loss: 0.4601 - accuracy: 0.8583 - val_loss: 0.4526 - val_accuracy: 0.9000\n",
      "Epoch 49/100\n",
      "4/4 [==============================] - 0s 11ms/step - loss: 0.4543 - accuracy: 0.8750 - val_loss: 0.4470 - val_accuracy: 0.9000\n",
      "Epoch 50/100\n",
      "4/4 [==============================] - 0s 11ms/step - loss: 0.4489 - accuracy: 0.8917 - val_loss: 0.4415 - val_accuracy: 0.9333\n",
      "Epoch 51/100\n",
      "4/4 [==============================] - 0s 11ms/step - loss: 0.4438 - accuracy: 0.9083 - val_loss: 0.4362 - val_accuracy: 0.9333\n",
      "Epoch 52/100\n",
      "4/4 [==============================] - 0s 10ms/step - loss: 0.4384 - accuracy: 0.9083 - val_loss: 0.4302 - val_accuracy: 0.9333\n",
      "Epoch 53/100\n",
      "4/4 [==============================] - 0s 11ms/step - loss: 0.4334 - accuracy: 0.9083 - val_loss: 0.4248 - val_accuracy: 0.9333\n",
      "Epoch 54/100\n",
      "4/4 [==============================] - 0s 12ms/step - loss: 0.4288 - accuracy: 0.9000 - val_loss: 0.4194 - val_accuracy: 0.9333\n",
      "Epoch 55/100\n",
      "4/4 [==============================] - 0s 11ms/step - loss: 0.4240 - accuracy: 0.9083 - val_loss: 0.4146 - val_accuracy: 0.9333\n",
      "Epoch 56/100\n",
      "4/4 [==============================] - 0s 12ms/step - loss: 0.4193 - accuracy: 0.9167 - val_loss: 0.4097 - val_accuracy: 0.9667\n",
      "Epoch 57/100\n",
      "4/4 [==============================] - 0s 11ms/step - loss: 0.4146 - accuracy: 0.9250 - val_loss: 0.4050 - val_accuracy: 0.9667\n",
      "Epoch 58/100\n",
      "4/4 [==============================] - 0s 12ms/step - loss: 0.4106 - accuracy: 0.9333 - val_loss: 0.4008 - val_accuracy: 1.0000\n",
      "Epoch 59/100\n",
      "4/4 [==============================] - 0s 11ms/step - loss: 0.4058 - accuracy: 0.9417 - val_loss: 0.3959 - val_accuracy: 1.0000\n",
      "Epoch 60/100\n",
      "4/4 [==============================] - 0s 12ms/step - loss: 0.4015 - accuracy: 0.9417 - val_loss: 0.3903 - val_accuracy: 1.0000\n",
      "Epoch 61/100\n",
      "4/4 [==============================] - 0s 12ms/step - loss: 0.3972 - accuracy: 0.9417 - val_loss: 0.3858 - val_accuracy: 1.0000\n",
      "Epoch 62/100\n",
      "4/4 [==============================] - 0s 11ms/step - loss: 0.3929 - accuracy: 0.9417 - val_loss: 0.3808 - val_accuracy: 1.0000\n",
      "Epoch 63/100\n",
      "4/4 [==============================] - 0s 11ms/step - loss: 0.3887 - accuracy: 0.9417 - val_loss: 0.3767 - val_accuracy: 1.0000\n",
      "Epoch 64/100\n",
      "4/4 [==============================] - 0s 10ms/step - loss: 0.3846 - accuracy: 0.9500 - val_loss: 0.3720 - val_accuracy: 1.0000\n",
      "Epoch 65/100\n",
      "4/4 [==============================] - 0s 11ms/step - loss: 0.3807 - accuracy: 0.9500 - val_loss: 0.3677 - val_accuracy: 1.0000\n",
      "Epoch 66/100\n",
      "4/4 [==============================] - 0s 11ms/step - loss: 0.3765 - accuracy: 0.9500 - val_loss: 0.3627 - val_accuracy: 1.0000\n",
      "Epoch 67/100\n",
      "4/4 [==============================] - 0s 11ms/step - loss: 0.3724 - accuracy: 0.9583 - val_loss: 0.3587 - val_accuracy: 1.0000\n",
      "Epoch 68/100\n",
      "4/4 [==============================] - 0s 11ms/step - loss: 0.3684 - accuracy: 0.9583 - val_loss: 0.3541 - val_accuracy: 1.0000\n",
      "Epoch 69/100\n",
      "4/4 [==============================] - 0s 11ms/step - loss: 0.3644 - accuracy: 0.9667 - val_loss: 0.3505 - val_accuracy: 1.0000\n",
      "Epoch 70/100\n",
      "4/4 [==============================] - 0s 11ms/step - loss: 0.3608 - accuracy: 0.9750 - val_loss: 0.3467 - val_accuracy: 1.0000\n",
      "Epoch 71/100\n",
      "4/4 [==============================] - 0s 11ms/step - loss: 0.3564 - accuracy: 0.9750 - val_loss: 0.3414 - val_accuracy: 1.0000\n",
      "Epoch 72/100\n",
      "4/4 [==============================] - 0s 11ms/step - loss: 0.3526 - accuracy: 0.9750 - val_loss: 0.3367 - val_accuracy: 1.0000\n",
      "Epoch 73/100\n",
      "4/4 [==============================] - 0s 11ms/step - loss: 0.3490 - accuracy: 0.9667 - val_loss: 0.3312 - val_accuracy: 1.0000\n",
      "Epoch 74/100\n",
      "4/4 [==============================] - 0s 11ms/step - loss: 0.3450 - accuracy: 0.9500 - val_loss: 0.3272 - val_accuracy: 1.0000\n",
      "Epoch 75/100\n",
      "4/4 [==============================] - 0s 11ms/step - loss: 0.3407 - accuracy: 0.9667 - val_loss: 0.3239 - val_accuracy: 1.0000\n",
      "Epoch 76/100\n",
      "4/4 [==============================] - 0s 11ms/step - loss: 0.3368 - accuracy: 0.9750 - val_loss: 0.3204 - val_accuracy: 1.0000\n",
      "Epoch 77/100\n",
      "4/4 [==============================] - 0s 11ms/step - loss: 0.3343 - accuracy: 0.9750 - val_loss: 0.3178 - val_accuracy: 1.0000\n",
      "Epoch 78/100\n",
      "4/4 [==============================] - 0s 12ms/step - loss: 0.3292 - accuracy: 0.9750 - val_loss: 0.3122 - val_accuracy: 1.0000\n",
      "Epoch 79/100\n",
      "4/4 [==============================] - 0s 11ms/step - loss: 0.3251 - accuracy: 0.9750 - val_loss: 0.3069 - val_accuracy: 1.0000\n",
      "Epoch 80/100\n",
      "4/4 [==============================] - 0s 11ms/step - loss: 0.3219 - accuracy: 0.9750 - val_loss: 0.3023 - val_accuracy: 1.0000\n",
      "Epoch 81/100\n",
      "4/4 [==============================] - 0s 11ms/step - loss: 0.3176 - accuracy: 0.9750 - val_loss: 0.2973 - val_accuracy: 1.0000\n",
      "Epoch 82/100\n",
      "4/4 [==============================] - 0s 12ms/step - loss: 0.3142 - accuracy: 0.9750 - val_loss: 0.2925 - val_accuracy: 1.0000\n",
      "Epoch 83/100\n",
      "4/4 [==============================] - 0s 11ms/step - loss: 0.3106 - accuracy: 0.9667 - val_loss: 0.2884 - val_accuracy: 1.0000\n",
      "Epoch 84/100\n",
      "4/4 [==============================] - 0s 11ms/step - loss: 0.3076 - accuracy: 0.9750 - val_loss: 0.2872 - val_accuracy: 1.0000\n",
      "Epoch 85/100\n",
      "4/4 [==============================] - 0s 10ms/step - loss: 0.3031 - accuracy: 0.9750 - val_loss: 0.2843 - val_accuracy: 1.0000\n",
      "Epoch 86/100\n",
      "4/4 [==============================] - 0s 11ms/step - loss: 0.2996 - accuracy: 0.9750 - val_loss: 0.2801 - val_accuracy: 1.0000\n",
      "Epoch 87/100\n",
      "4/4 [==============================] - 0s 10ms/step - loss: 0.2951 - accuracy: 0.9750 - val_loss: 0.2735 - val_accuracy: 1.0000\n",
      "Epoch 88/100\n",
      "4/4 [==============================] - 0s 10ms/step - loss: 0.2915 - accuracy: 0.9750 - val_loss: 0.2685 - val_accuracy: 1.0000\n",
      "Epoch 89/100\n",
      "4/4 [==============================] - 0s 10ms/step - loss: 0.2879 - accuracy: 0.9750 - val_loss: 0.2635 - val_accuracy: 1.0000\n",
      "Epoch 90/100\n",
      "4/4 [==============================] - 0s 10ms/step - loss: 0.2848 - accuracy: 0.9750 - val_loss: 0.2592 - val_accuracy: 1.0000\n",
      "Epoch 91/100\n",
      "4/4 [==============================] - 0s 10ms/step - loss: 0.2814 - accuracy: 0.9750 - val_loss: 0.2557 - val_accuracy: 1.0000\n",
      "Epoch 92/100\n",
      "4/4 [==============================] - 0s 11ms/step - loss: 0.2774 - accuracy: 0.9750 - val_loss: 0.2541 - val_accuracy: 1.0000\n",
      "Epoch 93/100\n",
      "4/4 [==============================] - 0s 11ms/step - loss: 0.2735 - accuracy: 0.9750 - val_loss: 0.2515 - val_accuracy: 1.0000\n",
      "Epoch 94/100\n",
      "4/4 [==============================] - 0s 12ms/step - loss: 0.2707 - accuracy: 0.9750 - val_loss: 0.2500 - val_accuracy: 1.0000\n",
      "Epoch 95/100\n",
      "4/4 [==============================] - 0s 11ms/step - loss: 0.2678 - accuracy: 0.9667 - val_loss: 0.2452 - val_accuracy: 1.0000\n",
      "Epoch 96/100\n",
      "4/4 [==============================] - 0s 14ms/step - loss: 0.2636 - accuracy: 0.9750 - val_loss: 0.2384 - val_accuracy: 1.0000\n",
      "Epoch 97/100\n",
      "4/4 [==============================] - 0s 13ms/step - loss: 0.2595 - accuracy: 0.9750 - val_loss: 0.2333 - val_accuracy: 1.0000\n",
      "Epoch 98/100\n",
      "4/4 [==============================] - 0s 12ms/step - loss: 0.2583 - accuracy: 0.9750 - val_loss: 0.2278 - val_accuracy: 1.0000\n",
      "Epoch 99/100\n",
      "4/4 [==============================] - 0s 10ms/step - loss: 0.2533 - accuracy: 0.9750 - val_loss: 0.2258 - val_accuracy: 1.0000\n",
      "Epoch 100/100\n",
      "4/4 [==============================] - 0s 10ms/step - loss: 0.2507 - accuracy: 0.9667 - val_loss: 0.2257 - val_accuracy: 1.0000\n",
      "<keras.callbacks.History object at 0x0000017267953AF0>\n"
     ]
    }
   ],
   "source": [
    "fit_hisroty = model.fit(X_train, y_train, validation_data=(X_test, y_test), epochs=100)\n",
    "print(fit_hisroty)\n",
    "# pred = model.predict(X_test)\n"
   ]
  },
  {
   "cell_type": "code",
   "execution_count": 14,
   "id": "266245c8-ea10-472f-851a-c4126ef97985",
   "metadata": {
    "tags": []
   },
   "outputs": [
    {
     "data": {
      "image/png": "[encoded data removed]",
      "text/plain": [
       "<Figure size 600x300 with 2 Axes>"
      ]
     },
     "metadata": {},
     "output_type": "display_data"
    }
   ],
   "source": [
    "plt.figure(figsize=(6,3))\n",
    "ax1 = plt.subplot(1,2,1)\n",
    "ax1.plot(fit_hisroty.history['loss']    , label='loss')\n",
    "ax1.plot(fit_hisroty.history['val_loss'], label='val_loss')\n",
    "ax1.legend()\n",
    "ax1.set_title(\"loss\")\n",
    "\n",
    "ax2 = plt.subplot(1,2,2)\n",
    "ax2.plot(fit_hisroty.history['accuracy']    , label='accuracy')\n",
    "ax2.plot(fit_hisroty.history['val_accuracy'], label='val_accuracy')\n",
    "ax2.legend()\n",
    "ax2.set_title(\"accuracy\")\n",
    "\n",
    "plt.show()"
   ]
  },
  {
   "cell_type": "code",
   "execution_count": 15,
   "id": "981d7e75-f810-41ca-a984-23458c7e1edc",
   "metadata": {
    "tags": []
   },
   "outputs": [
    {
     "name": "stdout",
     "output_type": "stream",
     "text": [
      "1/1 [==============================] - 0s 21ms/step - loss: 0.2257 - accuracy: 1.0000\n"
     ]
    },
    {
     "data": {
      "text/plain": [
       "[0.22569046914577484, 1.0]"
      ]
     },
     "execution_count": 15,
     "metadata": {},
     "output_type": "execute_result"
    }
   ],
   "source": [
    "model.evaluate(X_test, y_test)"
   ]
  },
  {
   "cell_type": "code",
   "execution_count": 16,
   "id": "9ba5f24d-4f7d-4b54-ad91-413cc2e39fc6",
   "metadata": {
    "tags": []
   },
   "outputs": [
    {
     "name": "stdout",
     "output_type": "stream",
     "text": [
      "1/1 [==============================] - 0s 77ms/step\n",
      "proba : [[3.4067419e-03 6.6140598e-01 3.3518726e-01]\n",
      " [9.8936170e-01 1.0616766e-02 2.1521650e-05]\n",
      " [2.3925176e-02 7.8654295e-01 1.8953188e-01]\n",
      " [7.4080497e-05 1.7133667e-01 8.2858926e-01]\n",
      " [3.5483361e-04 3.7989154e-01 6.1975360e-01]]\n",
      "pred : [1 0 1 2 2]\n",
      "y_test : [1 0 1 2 2]\n",
      "[[10  0  0]\n",
      " [ 0 10  0]\n",
      " [ 0  0 10]]\n"
     ]
    }
   ],
   "source": [
    "proba = model.predict(X_test)\n",
    "print(f\"proba : {proba[:5]}\")\n",
    "\n",
    "pred = np.argmax(proba, axis=1)\n",
    "print(f\"pred : {pred[:5]}\")  #------------submit에 제출할 예측답안\n",
    "\n",
    "\n",
    "#----------------------- 이런코딩 없다.. 그냥 해보자-----------------\n",
    "y_test22 = np.argmax(y_test.values, axis=1)\n",
    "print(f\"y_test : {y_test22[:5]}\")\n",
    "\n",
    "from sklearn.metrics import f1_score, confusion_matrix\n",
    "print( confusion_matrix(y_test22, pred) )"
   ]
  }
 ],
 "metadata": {
  "kernelspec": {
   "display_name": "Python 3 (ipykernel)",
   "language": "python",
   "name": "python3"
  },
  "language_info": {
   "codemirror_mode": {
    "name": "ipython",
    "version": 3
   },
   "file_extension": ".py",
   "mimetype": "text/x-python",
   "name": "python",
   "nbconvert_exporter": "python",
   "pygments_lexer": "ipython3",
   "version": "3.8.8"
  }
 },
 "nbformat": 4,
 "nbformat_minor": 5
}
